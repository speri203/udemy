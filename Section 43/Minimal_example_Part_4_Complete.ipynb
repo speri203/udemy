{
 "cells": [
  {
   "cell_type": "markdown",
   "metadata": {},
   "source": [
    "# Simple Linear Regression. Minimal example"
   ]
  },
  {
   "cell_type": "markdown",
   "metadata": {},
   "source": [
    "### Import the relevant libraries"
   ]
  },
  {
   "cell_type": "code",
   "execution_count": 5,
   "metadata": {
    "collapsed": false
   },
   "outputs": [],
   "source": [
    "# We must always import the relevant libraries for our problem at hand. NumPy is a must for this example.\n",
    "import numpy as np\n",
    "\n",
    "# matplotlib and mpl_toolkits are not necessary. We employ them for the sole purpose of visualizing the results.  \n",
    "import matplotlib.pyplot as plt\n",
    "from mpl_toolkits.mplot3d import Axes3D"
   ]
  },
  {
   "cell_type": "markdown",
   "metadata": {},
   "source": [
    "### Generate random input data to train on"
   ]
  },
  {
   "cell_type": "code",
   "execution_count": 6,
   "metadata": {
    "collapsed": false,
    "scrolled": false,
    "tags": []
   },
   "outputs": [
    {
     "output_type": "stream",
     "name": "stdout",
     "text": "(1000, 2)\n"
    }
   ],
   "source": [
    "# First, we should declare a variable containing the size of the training set we want to generate.\n",
    "observations = 1000\n",
    "\n",
    "# We will work with two variables as inputs. You can think about them as x1 and x2 in our previous examples.\n",
    "# We have picked x and z, since it is easier to differentiate them.\n",
    "# We generate them randomly, drawing from an uniform distribution. There are 3 arguments of this method (low, high, size).\n",
    "# The size of xs and zs is observations by 1. In this case: 1000 x 1.\n",
    "xs = np.random.uniform(low=-10, high=10, size=(observations,1))\n",
    "zs = np.random.uniform(-10, 10, (observations,1))\n",
    "\n",
    "# Combine the two dimensions of the input into one input matrix. \n",
    "# This is the X matrix from the linear model y = x*w + b.\n",
    "# column_stack is a Numpy method, which combines two vectors into a matrix. Alternatives are stack, dstack, hstack, etc.\n",
    "inputs = np.column_stack((xs,zs))\n",
    "\n",
    "# Check if the dimensions of the inputs are the same as the ones we defined in the linear model lectures. \n",
    "# They should be n x k, where n is the number of observations, and k is the number of variables, so 1000 x 2.\n",
    "print (inputs.shape)"
   ]
  },
  {
   "cell_type": "markdown",
   "metadata": {},
   "source": [
    "### Generate the targets we will aim at"
   ]
  },
  {
   "cell_type": "code",
   "execution_count": 7,
   "metadata": {
    "collapsed": false,
    "tags": []
   },
   "outputs": [
    {
     "output_type": "stream",
     "name": "stdout",
     "text": "(1000, 1)\n"
    }
   ],
   "source": [
    "# We want to \"make up\" a function, use the ML methodology, and see if the algorithm has learned it.\n",
    "# We add a small random noise to the function i.e. f(x,z) = 2x - 3z + 5 + <small noise>\n",
    "noise = np.random.uniform(-1, 1, (observations,1))\n",
    "\n",
    "# Produce the targets according to the f(x,z) = 2x - 3z + 5 + noise definition.\n",
    "# In this way, we are basically saying: the weights should be 2 and -3, while the bias is 5.\n",
    "targets = 2*xs - 3*zs + 5 + noise\n",
    "\n",
    "# Check the shape of the targets just in case. It should be n x m, where m is the number of output variables, so 1000 x 1.\n",
    "print (targets.shape)"
   ]
  },
  {
   "cell_type": "markdown",
   "metadata": {},
   "source": [
    "### Plot the training data\n",
    "The point is to see that there is a strong trend that our model should learn to reproduce."
   ]
  },
  {
   "cell_type": "code",
   "execution_count": 4,
   "metadata": {
    "collapsed": false
   },
   "outputs": [
    {
     "output_type": "error",
     "ename": "ValueError",
     "evalue": "operands could not be broadcast together with remapped shapes [original->remapped]: (1000,) and requested shape (1000,1)",
     "traceback": [
      "\u001b[0;31m---------------------------------------------------------------------------\u001b[0m",
      "\u001b[0;31mValueError\u001b[0m                                Traceback (most recent call last)",
      "\u001b[0;32m<ipython-input-4-dcdf23db0b2b>\u001b[0m in \u001b[0;36m<module>\u001b[0;34m\u001b[0m\n\u001b[1;32m     12\u001b[0m \u001b[0;34m\u001b[0m\u001b[0m\n\u001b[1;32m     13\u001b[0m \u001b[0;31m# Choose the axes.\u001b[0m\u001b[0;34m\u001b[0m\u001b[0;34m\u001b[0m\u001b[0;34m\u001b[0m\u001b[0m\n\u001b[0;32m---> 14\u001b[0;31m \u001b[0max\u001b[0m\u001b[0;34m.\u001b[0m\u001b[0mplot\u001b[0m\u001b[0;34m(\u001b[0m\u001b[0mxs\u001b[0m\u001b[0;34m,\u001b[0m \u001b[0mzs\u001b[0m\u001b[0;34m,\u001b[0m \u001b[0mtargets\u001b[0m\u001b[0;34m)\u001b[0m\u001b[0;34m\u001b[0m\u001b[0;34m\u001b[0m\u001b[0m\n\u001b[0m\u001b[1;32m     15\u001b[0m \u001b[0;34m\u001b[0m\u001b[0m\n\u001b[1;32m     16\u001b[0m \u001b[0;31m# Set labels\u001b[0m\u001b[0;34m\u001b[0m\u001b[0;34m\u001b[0m\u001b[0;34m\u001b[0m\u001b[0m\n",
      "\u001b[0;32m~/anaconda3/envs/udemy/lib/python3.7/site-packages/mpl_toolkits/mplot3d/axes3d.py\u001b[0m in \u001b[0;36mplot\u001b[0;34m(self, xs, ys, zdir, *args, **kwargs)\u001b[0m\n\u001b[1;32m   1467\u001b[0m \u001b[0;34m\u001b[0m\u001b[0m\n\u001b[1;32m   1468\u001b[0m         \u001b[0;31m# Match length\u001b[0m\u001b[0;34m\u001b[0m\u001b[0;34m\u001b[0m\u001b[0;34m\u001b[0m\u001b[0m\n\u001b[0;32m-> 1469\u001b[0;31m         \u001b[0mzs\u001b[0m \u001b[0;34m=\u001b[0m \u001b[0mnp\u001b[0m\u001b[0;34m.\u001b[0m\u001b[0mbroadcast_to\u001b[0m\u001b[0;34m(\u001b[0m\u001b[0mzs\u001b[0m\u001b[0;34m,\u001b[0m \u001b[0mnp\u001b[0m\u001b[0;34m.\u001b[0m\u001b[0mshape\u001b[0m\u001b[0;34m(\u001b[0m\u001b[0mxs\u001b[0m\u001b[0;34m)\u001b[0m\u001b[0;34m)\u001b[0m\u001b[0;34m\u001b[0m\u001b[0;34m\u001b[0m\u001b[0m\n\u001b[0m\u001b[1;32m   1470\u001b[0m \u001b[0;34m\u001b[0m\u001b[0m\n\u001b[1;32m   1471\u001b[0m         \u001b[0mlines\u001b[0m \u001b[0;34m=\u001b[0m \u001b[0msuper\u001b[0m\u001b[0;34m(\u001b[0m\u001b[0;34m)\u001b[0m\u001b[0;34m.\u001b[0m\u001b[0mplot\u001b[0m\u001b[0;34m(\u001b[0m\u001b[0mxs\u001b[0m\u001b[0;34m,\u001b[0m \u001b[0mys\u001b[0m\u001b[0;34m,\u001b[0m \u001b[0;34m*\u001b[0m\u001b[0margs\u001b[0m\u001b[0;34m,\u001b[0m \u001b[0;34m**\u001b[0m\u001b[0mkwargs\u001b[0m\u001b[0;34m)\u001b[0m\u001b[0;34m\u001b[0m\u001b[0;34m\u001b[0m\u001b[0m\n",
      "\u001b[0;32m<__array_function__ internals>\u001b[0m in \u001b[0;36mbroadcast_to\u001b[0;34m(*args, **kwargs)\u001b[0m\n",
      "\u001b[0;32m~/anaconda3/envs/udemy/lib/python3.7/site-packages/numpy/lib/stride_tricks.py\u001b[0m in \u001b[0;36mbroadcast_to\u001b[0;34m(array, shape, subok)\u001b[0m\n\u001b[1;32m    178\u001b[0m            [1, 2, 3]])\n\u001b[1;32m    179\u001b[0m     \"\"\"\n\u001b[0;32m--> 180\u001b[0;31m     \u001b[0;32mreturn\u001b[0m \u001b[0m_broadcast_to\u001b[0m\u001b[0;34m(\u001b[0m\u001b[0marray\u001b[0m\u001b[0;34m,\u001b[0m \u001b[0mshape\u001b[0m\u001b[0;34m,\u001b[0m \u001b[0msubok\u001b[0m\u001b[0;34m=\u001b[0m\u001b[0msubok\u001b[0m\u001b[0;34m,\u001b[0m \u001b[0mreadonly\u001b[0m\u001b[0;34m=\u001b[0m\u001b[0;32mTrue\u001b[0m\u001b[0;34m)\u001b[0m\u001b[0;34m\u001b[0m\u001b[0;34m\u001b[0m\u001b[0m\n\u001b[0m\u001b[1;32m    181\u001b[0m \u001b[0;34m\u001b[0m\u001b[0m\n\u001b[1;32m    182\u001b[0m \u001b[0;34m\u001b[0m\u001b[0m\n",
      "\u001b[0;32m~/anaconda3/envs/udemy/lib/python3.7/site-packages/numpy/lib/stride_tricks.py\u001b[0m in \u001b[0;36m_broadcast_to\u001b[0;34m(array, shape, subok, readonly)\u001b[0m\n\u001b[1;32m    123\u001b[0m     it = np.nditer(\n\u001b[1;32m    124\u001b[0m         \u001b[0;34m(\u001b[0m\u001b[0marray\u001b[0m\u001b[0;34m,\u001b[0m\u001b[0;34m)\u001b[0m\u001b[0;34m,\u001b[0m \u001b[0mflags\u001b[0m\u001b[0;34m=\u001b[0m\u001b[0;34m[\u001b[0m\u001b[0;34m'multi_index'\u001b[0m\u001b[0;34m,\u001b[0m \u001b[0;34m'refs_ok'\u001b[0m\u001b[0;34m,\u001b[0m \u001b[0;34m'zerosize_ok'\u001b[0m\u001b[0;34m]\u001b[0m \u001b[0;34m+\u001b[0m \u001b[0mextras\u001b[0m\u001b[0;34m,\u001b[0m\u001b[0;34m\u001b[0m\u001b[0;34m\u001b[0m\u001b[0m\n\u001b[0;32m--> 125\u001b[0;31m         op_flags=['readonly'], itershape=shape, order='C')\n\u001b[0m\u001b[1;32m    126\u001b[0m     \u001b[0;32mwith\u001b[0m \u001b[0mit\u001b[0m\u001b[0;34m:\u001b[0m\u001b[0;34m\u001b[0m\u001b[0;34m\u001b[0m\u001b[0m\n\u001b[1;32m    127\u001b[0m         \u001b[0;31m# never really has writebackifcopy semantics\u001b[0m\u001b[0;34m\u001b[0m\u001b[0;34m\u001b[0m\u001b[0;34m\u001b[0m\u001b[0m\n",
      "\u001b[0;31mValueError\u001b[0m: operands could not be broadcast together with remapped shapes [original->remapped]: (1000,) and requested shape (1000,1)"
     ]
    }
   ],
   "source": [
    "# In order to use the 3D plot, the objects should have a certain shape, so we reshape the targets.\n",
    "# The proper method to use is reshape and takes as arguments the dimensions in which we want to fit the object.\n",
    "targets = targets.reshape(observations,)\n",
    "\n",
    "# Plotting according to the conventional matplotlib.pyplot syntax\n",
    "\n",
    "# Declare the figure\n",
    "fig = plt.figure()\n",
    "\n",
    "# A method allowing us to create the 3D plot\n",
    "ax = fig.add_subplot(111, projection='3d')\n",
    "\n",
    "# Choose the axes.\n",
    "ax.plot(xs, zs, targets)\n",
    "\n",
    "# Set labels\n",
    "ax.set_xlabel('xs')\n",
    "ax.set_ylabel('zs')\n",
    "ax.set_zlabel('Targets')\n",
    "\n",
    "# You can fiddle with the azim parameter to plot the data from different angles. Just change the value of azim=100\n",
    "# to azim = 0 ; azim = 200, or whatever. Check and see what happens.\n",
    "ax.view_init(azim=100)\n",
    "\n",
    "# So far we were just describing the plot. This method actually shows the plot. \n",
    "plt.show()\n",
    "\n",
    "# We reshape the targets back to the shape that they were in before plotting.\n",
    "# This reshaping is a side-effect of the 3D plot. Sorry for that.\n",
    "targets = targets.reshape(observations,1)"
   ]
  },
  {
   "cell_type": "markdown",
   "metadata": {},
   "source": [
    "### Initialize variables"
   ]
  },
  {
   "cell_type": "code",
   "execution_count": 8,
   "metadata": {
    "collapsed": false,
    "tags": []
   },
   "outputs": [
    {
     "output_type": "stream",
     "name": "stdout",
     "text": "[[-0.0233805 ]\n [-0.06751091]]\n[-0.06132749]\n"
    }
   ],
   "source": [
    "# We will initialize the weights and biases randomly in some small initial range.\n",
    "# init_range is the variable that will measure that.\n",
    "# You can play around with the initial range, but we don't really encourage you to do so.\n",
    "# High initial ranges may prevent the machine learning algorithm from learning.\n",
    "init_range = 0.1\n",
    "\n",
    "# Weights are of size k x m, where k is the number of input variables and m is the number of output variables\n",
    "# In our case, the weights matrix is 2x1 since there are 2 inputs (x and z) and one output (y)\n",
    "weights = np.random.uniform(low=-init_range, high=init_range, size=(2, 1))\n",
    "\n",
    "# Biases are of size 1 since there is only 1 output. The bias is a scalar.\n",
    "biases = np.random.uniform(low=-init_range, high=init_range, size=1)\n",
    "\n",
    "#Print the weights to get a sense of how they were initialized.\n",
    "print (weights)\n",
    "print (biases)"
   ]
  },
  {
   "cell_type": "markdown",
   "metadata": {},
   "source": [
    "### Set a learning rate"
   ]
  },
  {
   "cell_type": "code",
   "execution_count": 9,
   "metadata": {
    "collapsed": false
   },
   "outputs": [],
   "source": [
    "# Set some small learning rate (denoted eta in the lecture). \n",
    "# 0.02 is going to work quite well for our example. Once again, you can play around with it.\n",
    "# It is HIGHLY recommended that you play around with it.\n",
    "learning_rate = 0.02"
   ]
  },
  {
   "cell_type": "markdown",
   "metadata": {},
   "source": [
    "### Train the model"
   ]
  },
  {
   "cell_type": "code",
   "execution_count": 10,
   "metadata": {
    "collapsed": false,
    "scrolled": true,
    "tags": []
   },
   "outputs": [
    {
     "output_type": "stream",
     "name": "stdout",
     "text": "217.35908836386375\n37.707994143470934\n15.104481881272424\n11.877712205073196\n11.082148168796506\n10.60787636810451\n10.18912544616856\n9.79164029204727\n9.410491007876498\n9.044506796458204\n8.693019862325507\n8.355447618242621\n8.031238129815595\n7.719862293948694\n7.420812079414569\n7.133599581685869\n6.857756211793708\n6.592831929853409\n6.338394510565522\n6.094028838004587\n5.859336228351076\n5.63393377943614\n5.417453746034753\n5.209542939887525\n5.009862153472258\n4.818085606585206\n4.63390041482902\n4.457006079140296\n4.287113995523836\n4.123946984193799\n3.9672388373534755\n3.8167338848759407\n3.6721865771769604\n3.5333610845996195\n3.4000309126570403\n3.271978532505509\n3.148995026045063\n3.030879745068572\n2.9174399839031806\n2.808490665010038\n2.7038540370293593\n2.603359384778205\n2.506842750727788\n2.4141466675059573\n2.3251199009883825\n2.239617203559328\n2.157499077139436\n2.0786315455939097\n2.0028859361497835\n1.9301386694656466\n1.860271058011323\n1.7931691124285836\n1.7287233555569177\n1.6668286438210207\n1.6073839956885037\n1.5502924269180263\n1.4954607923290233\n1.442799633834869\n1.3922230344915658\n1.343648478323817\n1.2969967156997995\n1.2521916340349946\n1.2091601336141216\n1.167832008328592\n1.1281398311348785\n1.0900188440469727\n1.0534068524833937\n1.0182441237964235\n0.9844732898179881\n0.9520392532632054\n0.9208890978388931\n0.8909720019103644\n0.8622391555856793\n0.8346436810820641\n0.8081405562445685\n0.7826865410921988\n0.7582401072716696\n0.7347613703036859\n0.7122120245112219\n0.6905552805236068\n0.6697558052544925\n0.6497796642557384\n0.6305942663531939\n0.6121683104740323\n0.594471734578893\n0.5774756666155155\n0.5611523774138412\n0.5454752354457321\n0.5304186633755011\n0.5159580963303572\n0.5020699418226959\n0.488731541258838\n0.47592113297141536\n0.46361781671510893\n0.45180151956778686\n0.44045296318143445\n0.4295536323294336\n0.41908574469887694\n0.40903222187863536\n0.3993766614958421\n"
    }
   ],
   "source": [
    "# We iterate over our training dataset 100 times. That works well with a learning rate of 0.02.\n",
    "# The proper number of iterations is something we will talk about later on, but generally\n",
    "# a lower learning rate would need more iterations, while a higher learning rate would need less iterations\n",
    "# keep in mind that a high learning rate may cause the loss to diverge to infinity, instead of converge to 0.\n",
    "for i in range (100):\n",
    "    \n",
    "    # This is the linear model: y = xw + b equation\n",
    "    outputs = np.dot(inputs,weights) + biases\n",
    "    # The deltas are the differences between the outputs and the targets\n",
    "    # Note that deltas here is a vector 1000 x 1\n",
    "    deltas = outputs - targets\n",
    "        \n",
    "    # We are considering the L2-norm loss, but divided by 2, so it is consistent with the lectures.\n",
    "    # Moreover, we further divide it by the number of observations.\n",
    "    # This is simple rescaling by a constant. We explained that this doesn't change the optimization logic,\n",
    "    # as any function holding the basic property of being lower for better results, and higher for worse results\n",
    "    # can be a loss function.\n",
    "    loss = np.sum(deltas ** 2) / 2 / observations\n",
    "    \n",
    "    # We print the loss function value at each step so we can observe whether it is decreasing as desired.\n",
    "    print (loss)\n",
    "    \n",
    "    # Another small trick is to scale the deltas the same way as the loss function\n",
    "    # In this way our learning rate is independent of the number of samples (observations).\n",
    "    # Again, this doesn't change anything in principle, it simply makes it easier to pick a single learning rate\n",
    "    # that can remain the same if we change the number of training samples (observations).\n",
    "    # You can try solving the problem without rescaling to see how that works for you.\n",
    "    deltas_scaled = deltas / observations\n",
    "    \n",
    "    # Finally, we must apply the gradient descent update rules from the relevant lecture.\n",
    "    # The weights are 2x1, learning rate is 1x1 (scalar), inputs are 1000x2, and deltas_scaled are 1000x1\n",
    "    # We must transpose the inputs so that we get an allowed operation.\n",
    "    weights = weights - learning_rate * np.dot(inputs.T,deltas_scaled)\n",
    "    biases = biases - learning_rate * np.sum(deltas_scaled)\n",
    "    \n",
    "    # The weights are updated in a linear algebraic way (a matrix minus another matrix)\n",
    "    # The biases, however, are just a single number here, so we must transform the deltas into a scalar.\n",
    "    # The two lines are both consistent with the gradient descent methodology. "
   ]
  },
  {
   "cell_type": "markdown",
   "metadata": {},
   "source": [
    "### Print weights and biases and see if we have worked correctly."
   ]
  },
  {
   "cell_type": "code",
   "execution_count": 11,
   "metadata": {
    "collapsed": false,
    "tags": []
   },
   "outputs": [
    {
     "output_type": "stream",
     "name": "stdout",
     "text": "[[ 2.0002968 ]\n [-2.99780278]] [4.31482295]\n"
    }
   ],
   "source": [
    "# We print the weights and the biases, so we can see if they have converged to what we wanted.\n",
    "# When declared the targets, following the f(x,z), we knew the weights should be 2 and -3, while the bias: 5.\n",
    "print (weights, biases)\n",
    "\n",
    "# Note that they may be convergING. So more iterations are needed."
   ]
  },
  {
   "cell_type": "markdown",
   "metadata": {},
   "source": [
    "### Plot last outputs vs targets\n",
    "Since they are the last ones at the end of the training, they represent the final model accuracy. <br/>\n",
    "The closer this plot is to a 45 degree line, the closer target and output values are."
   ]
  },
  {
   "cell_type": "code",
   "execution_count": 12,
   "metadata": {
    "collapsed": false
   },
   "outputs": [
    {
     "output_type": "display_data",
     "data": {
      "text/plain": "<Figure size 432x288 with 1 Axes>",
      "image/svg+xml": "<?xml version=\"1.0\" encoding=\"utf-8\" standalone=\"no\"?>\n<!DOCTYPE svg PUBLIC \"-//W3C//DTD SVG 1.1//EN\"\n  \"http://www.w3.org/Graphics/SVG/1.1/DTD/svg11.dtd\">\n<!-- Created with matplotlib (https://matplotlib.org/) -->\n<svg height=\"262.19625pt\" version=\"1.1\" viewBox=\"0 0 390.982812 262.19625\" width=\"390.982812pt\" xmlns=\"http://www.w3.org/2000/svg\" xmlns:xlink=\"http://www.w3.org/1999/xlink\">\n <metadata>\n  <rdf:RDF xmlns:cc=\"http://creativecommons.org/ns#\" xmlns:dc=\"http://purl.org/dc/elements/1.1/\" xmlns:rdf=\"http://www.w3.org/1999/02/22-rdf-syntax-ns#\">\n   <cc:Work>\n    <dc:type rdf:resource=\"http://purl.org/dc/dcmitype/StillImage\"/>\n    <dc:date>2020-08-20T11:59:33.773147</dc:date>\n    <dc:format>image/svg+xml</dc:format>\n    <dc:creator>\n     <cc:Agent>\n      <dc:title>Matplotlib v3.3.1, https://matplotlib.org/</dc:title>\n     </cc:Agent>\n    </dc:creator>\n   </cc:Work>\n  </rdf:RDF>\n </metadata>\n <defs>\n  <style type=\"text/css\">*{stroke-linecap:butt;stroke-linejoin:round;}</style>\n </defs>\n <g id=\"figure_1\">\n  <g id=\"patch_1\">\n   <path d=\"M 0 262.19625 \nL 390.982812 262.19625 \nL 390.982812 0 \nL 0 0 \nz\n\" style=\"fill:none;\"/>\n  </g>\n  <g id=\"axes_1\">\n   <g id=\"patch_2\">\n    <path d=\"M 48.982813 224.64 \nL 383.782813 224.64 \nL 383.782813 7.2 \nL 48.982813 7.2 \nz\n\" style=\"fill:#ffffff;\"/>\n   </g>\n   <g id=\"matplotlib.axis_1\">\n    <g id=\"xtick_1\">\n     <g id=\"line2d_1\">\n      <defs>\n       <path d=\"M 0 0 \nL 0 3.5 \n\" id=\"ma49b3419ef\" style=\"stroke:#000000;stroke-width:0.8;\"/>\n      </defs>\n      <g>\n       <use style=\"stroke:#000000;stroke-width:0.8;\" x=\"81.394564\" xlink:href=\"#ma49b3419ef\" y=\"224.64\"/>\n      </g>\n     </g>\n     <g id=\"text_1\">\n      <!-- −40 -->\n      <g transform=\"translate(70.842221 239.238437)scale(0.1 -0.1)\">\n       <defs>\n        <path d=\"M 10.59375 35.5 \nL 73.1875 35.5 \nL 73.1875 27.203125 \nL 10.59375 27.203125 \nz\n\" id=\"DejaVuSans-8722\"/>\n        <path d=\"M 37.796875 64.3125 \nL 12.890625 25.390625 \nL 37.796875 25.390625 \nz\nM 35.203125 72.90625 \nL 47.609375 72.90625 \nL 47.609375 25.390625 \nL 58.015625 25.390625 \nL 58.015625 17.1875 \nL 47.609375 17.1875 \nL 47.609375 0 \nL 37.796875 0 \nL 37.796875 17.1875 \nL 4.890625 17.1875 \nL 4.890625 26.703125 \nz\n\" id=\"DejaVuSans-52\"/>\n        <path d=\"M 31.78125 66.40625 \nQ 24.171875 66.40625 20.328125 58.90625 \nQ 16.5 51.421875 16.5 36.375 \nQ 16.5 21.390625 20.328125 13.890625 \nQ 24.171875 6.390625 31.78125 6.390625 \nQ 39.453125 6.390625 43.28125 13.890625 \nQ 47.125 21.390625 47.125 36.375 \nQ 47.125 51.421875 43.28125 58.90625 \nQ 39.453125 66.40625 31.78125 66.40625 \nz\nM 31.78125 74.21875 \nQ 44.046875 74.21875 50.515625 64.515625 \nQ 56.984375 54.828125 56.984375 36.375 \nQ 56.984375 17.96875 50.515625 8.265625 \nQ 44.046875 -1.421875 31.78125 -1.421875 \nQ 19.53125 -1.421875 13.0625 8.265625 \nQ 6.59375 17.96875 6.59375 36.375 \nQ 6.59375 54.828125 13.0625 64.515625 \nQ 19.53125 74.21875 31.78125 74.21875 \nz\n\" id=\"DejaVuSans-48\"/>\n       </defs>\n       <use xlink:href=\"#DejaVuSans-8722\"/>\n       <use x=\"83.789062\" xlink:href=\"#DejaVuSans-52\"/>\n       <use x=\"147.412109\" xlink:href=\"#DejaVuSans-48\"/>\n      </g>\n     </g>\n    </g>\n    <g id=\"xtick_2\">\n     <g id=\"line2d_2\">\n      <g>\n       <use style=\"stroke:#000000;stroke-width:0.8;\" x=\"146.174785\" xlink:href=\"#ma49b3419ef\" y=\"224.64\"/>\n      </g>\n     </g>\n     <g id=\"text_2\">\n      <!-- −20 -->\n      <g transform=\"translate(135.622442 239.238437)scale(0.1 -0.1)\">\n       <defs>\n        <path d=\"M 19.1875 8.296875 \nL 53.609375 8.296875 \nL 53.609375 0 \nL 7.328125 0 \nL 7.328125 8.296875 \nQ 12.9375 14.109375 22.625 23.890625 \nQ 32.328125 33.6875 34.8125 36.53125 \nQ 39.546875 41.84375 41.421875 45.53125 \nQ 43.3125 49.21875 43.3125 52.78125 \nQ 43.3125 58.59375 39.234375 62.25 \nQ 35.15625 65.921875 28.609375 65.921875 \nQ 23.96875 65.921875 18.8125 64.3125 \nQ 13.671875 62.703125 7.8125 59.421875 \nL 7.8125 69.390625 \nQ 13.765625 71.78125 18.9375 73 \nQ 24.125 74.21875 28.421875 74.21875 \nQ 39.75 74.21875 46.484375 68.546875 \nQ 53.21875 62.890625 53.21875 53.421875 \nQ 53.21875 48.921875 51.53125 44.890625 \nQ 49.859375 40.875 45.40625 35.40625 \nQ 44.1875 33.984375 37.640625 27.21875 \nQ 31.109375 20.453125 19.1875 8.296875 \nz\n\" id=\"DejaVuSans-50\"/>\n       </defs>\n       <use xlink:href=\"#DejaVuSans-8722\"/>\n       <use x=\"83.789062\" xlink:href=\"#DejaVuSans-50\"/>\n       <use x=\"147.412109\" xlink:href=\"#DejaVuSans-48\"/>\n      </g>\n     </g>\n    </g>\n    <g id=\"xtick_3\">\n     <g id=\"line2d_3\">\n      <g>\n       <use style=\"stroke:#000000;stroke-width:0.8;\" x=\"210.955006\" xlink:href=\"#ma49b3419ef\" y=\"224.64\"/>\n      </g>\n     </g>\n     <g id=\"text_3\">\n      <!-- 0 -->\n      <g transform=\"translate(207.773756 239.238437)scale(0.1 -0.1)\">\n       <use xlink:href=\"#DejaVuSans-48\"/>\n      </g>\n     </g>\n    </g>\n    <g id=\"xtick_4\">\n     <g id=\"line2d_4\">\n      <g>\n       <use style=\"stroke:#000000;stroke-width:0.8;\" x=\"275.735227\" xlink:href=\"#ma49b3419ef\" y=\"224.64\"/>\n      </g>\n     </g>\n     <g id=\"text_4\">\n      <!-- 20 -->\n      <g transform=\"translate(269.372727 239.238437)scale(0.1 -0.1)\">\n       <use xlink:href=\"#DejaVuSans-50\"/>\n       <use x=\"63.623047\" xlink:href=\"#DejaVuSans-48\"/>\n      </g>\n     </g>\n    </g>\n    <g id=\"xtick_5\">\n     <g id=\"line2d_5\">\n      <g>\n       <use style=\"stroke:#000000;stroke-width:0.8;\" x=\"340.515448\" xlink:href=\"#ma49b3419ef\" y=\"224.64\"/>\n      </g>\n     </g>\n     <g id=\"text_5\">\n      <!-- 40 -->\n      <g transform=\"translate(334.152948 239.238437)scale(0.1 -0.1)\">\n       <use xlink:href=\"#DejaVuSans-52\"/>\n       <use x=\"63.623047\" xlink:href=\"#DejaVuSans-48\"/>\n      </g>\n     </g>\n    </g>\n    <g id=\"text_6\">\n     <!-- outputs -->\n     <g transform=\"translate(197.286719 252.916562)scale(0.1 -0.1)\">\n      <defs>\n       <path d=\"M 30.609375 48.390625 \nQ 23.390625 48.390625 19.1875 42.75 \nQ 14.984375 37.109375 14.984375 27.296875 \nQ 14.984375 17.484375 19.15625 11.84375 \nQ 23.34375 6.203125 30.609375 6.203125 \nQ 37.796875 6.203125 41.984375 11.859375 \nQ 46.1875 17.53125 46.1875 27.296875 \nQ 46.1875 37.015625 41.984375 42.703125 \nQ 37.796875 48.390625 30.609375 48.390625 \nz\nM 30.609375 56 \nQ 42.328125 56 49.015625 48.375 \nQ 55.71875 40.765625 55.71875 27.296875 \nQ 55.71875 13.875 49.015625 6.21875 \nQ 42.328125 -1.421875 30.609375 -1.421875 \nQ 18.84375 -1.421875 12.171875 6.21875 \nQ 5.515625 13.875 5.515625 27.296875 \nQ 5.515625 40.765625 12.171875 48.375 \nQ 18.84375 56 30.609375 56 \nz\n\" id=\"DejaVuSans-111\"/>\n       <path d=\"M 8.5 21.578125 \nL 8.5 54.6875 \nL 17.484375 54.6875 \nL 17.484375 21.921875 \nQ 17.484375 14.15625 20.5 10.265625 \nQ 23.53125 6.390625 29.59375 6.390625 \nQ 36.859375 6.390625 41.078125 11.03125 \nQ 45.3125 15.671875 45.3125 23.6875 \nL 45.3125 54.6875 \nL 54.296875 54.6875 \nL 54.296875 0 \nL 45.3125 0 \nL 45.3125 8.40625 \nQ 42.046875 3.421875 37.71875 1 \nQ 33.40625 -1.421875 27.6875 -1.421875 \nQ 18.265625 -1.421875 13.375 4.4375 \nQ 8.5 10.296875 8.5 21.578125 \nz\nM 31.109375 56 \nz\n\" id=\"DejaVuSans-117\"/>\n       <path d=\"M 18.3125 70.21875 \nL 18.3125 54.6875 \nL 36.8125 54.6875 \nL 36.8125 47.703125 \nL 18.3125 47.703125 \nL 18.3125 18.015625 \nQ 18.3125 11.328125 20.140625 9.421875 \nQ 21.96875 7.515625 27.59375 7.515625 \nL 36.8125 7.515625 \nL 36.8125 0 \nL 27.59375 0 \nQ 17.1875 0 13.234375 3.875 \nQ 9.28125 7.765625 9.28125 18.015625 \nL 9.28125 47.703125 \nL 2.6875 47.703125 \nL 2.6875 54.6875 \nL 9.28125 54.6875 \nL 9.28125 70.21875 \nz\n\" id=\"DejaVuSans-116\"/>\n       <path d=\"M 18.109375 8.203125 \nL 18.109375 -20.796875 \nL 9.078125 -20.796875 \nL 9.078125 54.6875 \nL 18.109375 54.6875 \nL 18.109375 46.390625 \nQ 20.953125 51.265625 25.265625 53.625 \nQ 29.59375 56 35.59375 56 \nQ 45.5625 56 51.78125 48.09375 \nQ 58.015625 40.1875 58.015625 27.296875 \nQ 58.015625 14.40625 51.78125 6.484375 \nQ 45.5625 -1.421875 35.59375 -1.421875 \nQ 29.59375 -1.421875 25.265625 0.953125 \nQ 20.953125 3.328125 18.109375 8.203125 \nz\nM 48.6875 27.296875 \nQ 48.6875 37.203125 44.609375 42.84375 \nQ 40.53125 48.484375 33.40625 48.484375 \nQ 26.265625 48.484375 22.1875 42.84375 \nQ 18.109375 37.203125 18.109375 27.296875 \nQ 18.109375 17.390625 22.1875 11.75 \nQ 26.265625 6.109375 33.40625 6.109375 \nQ 40.53125 6.109375 44.609375 11.75 \nQ 48.6875 17.390625 48.6875 27.296875 \nz\n\" id=\"DejaVuSans-112\"/>\n       <path d=\"M 44.28125 53.078125 \nL 44.28125 44.578125 \nQ 40.484375 46.53125 36.375 47.5 \nQ 32.28125 48.484375 27.875 48.484375 \nQ 21.1875 48.484375 17.84375 46.4375 \nQ 14.5 44.390625 14.5 40.28125 \nQ 14.5 37.15625 16.890625 35.375 \nQ 19.28125 33.59375 26.515625 31.984375 \nL 29.59375 31.296875 \nQ 39.15625 29.25 43.1875 25.515625 \nQ 47.21875 21.78125 47.21875 15.09375 \nQ 47.21875 7.46875 41.1875 3.015625 \nQ 35.15625 -1.421875 24.609375 -1.421875 \nQ 20.21875 -1.421875 15.453125 -0.5625 \nQ 10.6875 0.296875 5.421875 2 \nL 5.421875 11.28125 \nQ 10.40625 8.6875 15.234375 7.390625 \nQ 20.0625 6.109375 24.8125 6.109375 \nQ 31.15625 6.109375 34.5625 8.28125 \nQ 37.984375 10.453125 37.984375 14.40625 \nQ 37.984375 18.0625 35.515625 20.015625 \nQ 33.0625 21.96875 24.703125 23.78125 \nL 21.578125 24.515625 \nQ 13.234375 26.265625 9.515625 29.90625 \nQ 5.8125 33.546875 5.8125 39.890625 \nQ 5.8125 47.609375 11.28125 51.796875 \nQ 16.75 56 26.8125 56 \nQ 31.78125 56 36.171875 55.265625 \nQ 40.578125 54.546875 44.28125 53.078125 \nz\n\" id=\"DejaVuSans-115\"/>\n      </defs>\n      <use xlink:href=\"#DejaVuSans-111\"/>\n      <use x=\"61.181641\" xlink:href=\"#DejaVuSans-117\"/>\n      <use x=\"124.560547\" xlink:href=\"#DejaVuSans-116\"/>\n      <use x=\"163.769531\" xlink:href=\"#DejaVuSans-112\"/>\n      <use x=\"227.246094\" xlink:href=\"#DejaVuSans-117\"/>\n      <use x=\"290.625\" xlink:href=\"#DejaVuSans-116\"/>\n      <use x=\"329.833984\" xlink:href=\"#DejaVuSans-115\"/>\n     </g>\n    </g>\n   </g>\n   <g id=\"matplotlib.axis_2\">\n    <g id=\"ytick_1\">\n     <g id=\"line2d_6\">\n      <defs>\n       <path d=\"M 0 0 \nL -3.5 0 \n\" id=\"mf3e155e581\" style=\"stroke:#000000;stroke-width:0.8;\"/>\n      </defs>\n      <g>\n       <use style=\"stroke:#000000;stroke-width:0.8;\" x=\"48.982813\" xlink:href=\"#mf3e155e581\" y=\"205.201096\"/>\n      </g>\n     </g>\n     <g id=\"text_7\">\n      <!-- −40 -->\n      <g transform=\"translate(20.878125 209.000315)scale(0.1 -0.1)\">\n       <use xlink:href=\"#DejaVuSans-8722\"/>\n       <use x=\"83.789062\" xlink:href=\"#DejaVuSans-52\"/>\n       <use x=\"147.412109\" xlink:href=\"#DejaVuSans-48\"/>\n      </g>\n     </g>\n    </g>\n    <g id=\"ytick_2\">\n     <g id=\"line2d_7\">\n      <g>\n       <use style=\"stroke:#000000;stroke-width:0.8;\" x=\"48.982813\" xlink:href=\"#mf3e155e581\" y=\"163.274857\"/>\n      </g>\n     </g>\n     <g id=\"text_8\">\n      <!-- −20 -->\n      <g transform=\"translate(20.878125 167.074076)scale(0.1 -0.1)\">\n       <use xlink:href=\"#DejaVuSans-8722\"/>\n       <use x=\"83.789062\" xlink:href=\"#DejaVuSans-50\"/>\n       <use x=\"147.412109\" xlink:href=\"#DejaVuSans-48\"/>\n      </g>\n     </g>\n    </g>\n    <g id=\"ytick_3\">\n     <g id=\"line2d_8\">\n      <g>\n       <use style=\"stroke:#000000;stroke-width:0.8;\" x=\"48.982813\" xlink:href=\"#mf3e155e581\" y=\"121.348619\"/>\n      </g>\n     </g>\n     <g id=\"text_9\">\n      <!-- 0 -->\n      <g transform=\"translate(35.620312 125.147837)scale(0.1 -0.1)\">\n       <use xlink:href=\"#DejaVuSans-48\"/>\n      </g>\n     </g>\n    </g>\n    <g id=\"ytick_4\">\n     <g id=\"line2d_9\">\n      <g>\n       <use style=\"stroke:#000000;stroke-width:0.8;\" x=\"48.982813\" xlink:href=\"#mf3e155e581\" y=\"79.42238\"/>\n      </g>\n     </g>\n     <g id=\"text_10\">\n      <!-- 20 -->\n      <g transform=\"translate(29.257812 83.221598)scale(0.1 -0.1)\">\n       <use xlink:href=\"#DejaVuSans-50\"/>\n       <use x=\"63.623047\" xlink:href=\"#DejaVuSans-48\"/>\n      </g>\n     </g>\n    </g>\n    <g id=\"ytick_5\">\n     <g id=\"line2d_10\">\n      <g>\n       <use style=\"stroke:#000000;stroke-width:0.8;\" x=\"48.982813\" xlink:href=\"#mf3e155e581\" y=\"37.496141\"/>\n      </g>\n     </g>\n     <g id=\"text_11\">\n      <!-- 40 -->\n      <g transform=\"translate(29.257812 41.295359)scale(0.1 -0.1)\">\n       <use xlink:href=\"#DejaVuSans-52\"/>\n       <use x=\"63.623047\" xlink:href=\"#DejaVuSans-48\"/>\n      </g>\n     </g>\n    </g>\n    <g id=\"text_12\">\n     <!-- targets -->\n     <g transform=\"translate(14.798437 133.727812)rotate(-90)scale(0.1 -0.1)\">\n      <defs>\n       <path d=\"M 34.28125 27.484375 \nQ 23.390625 27.484375 19.1875 25 \nQ 14.984375 22.515625 14.984375 16.5 \nQ 14.984375 11.71875 18.140625 8.90625 \nQ 21.296875 6.109375 26.703125 6.109375 \nQ 34.1875 6.109375 38.703125 11.40625 \nQ 43.21875 16.703125 43.21875 25.484375 \nL 43.21875 27.484375 \nz\nM 52.203125 31.203125 \nL 52.203125 0 \nL 43.21875 0 \nL 43.21875 8.296875 \nQ 40.140625 3.328125 35.546875 0.953125 \nQ 30.953125 -1.421875 24.3125 -1.421875 \nQ 15.921875 -1.421875 10.953125 3.296875 \nQ 6 8.015625 6 15.921875 \nQ 6 25.140625 12.171875 29.828125 \nQ 18.359375 34.515625 30.609375 34.515625 \nL 43.21875 34.515625 \nL 43.21875 35.40625 \nQ 43.21875 41.609375 39.140625 45 \nQ 35.0625 48.390625 27.6875 48.390625 \nQ 23 48.390625 18.546875 47.265625 \nQ 14.109375 46.140625 10.015625 43.890625 \nL 10.015625 52.203125 \nQ 14.9375 54.109375 19.578125 55.046875 \nQ 24.21875 56 28.609375 56 \nQ 40.484375 56 46.34375 49.84375 \nQ 52.203125 43.703125 52.203125 31.203125 \nz\n\" id=\"DejaVuSans-97\"/>\n       <path d=\"M 41.109375 46.296875 \nQ 39.59375 47.171875 37.8125 47.578125 \nQ 36.03125 48 33.890625 48 \nQ 26.265625 48 22.1875 43.046875 \nQ 18.109375 38.09375 18.109375 28.8125 \nL 18.109375 0 \nL 9.078125 0 \nL 9.078125 54.6875 \nL 18.109375 54.6875 \nL 18.109375 46.1875 \nQ 20.953125 51.171875 25.484375 53.578125 \nQ 30.03125 56 36.53125 56 \nQ 37.453125 56 38.578125 55.875 \nQ 39.703125 55.765625 41.0625 55.515625 \nz\n\" id=\"DejaVuSans-114\"/>\n       <path d=\"M 45.40625 27.984375 \nQ 45.40625 37.75 41.375 43.109375 \nQ 37.359375 48.484375 30.078125 48.484375 \nQ 22.859375 48.484375 18.828125 43.109375 \nQ 14.796875 37.75 14.796875 27.984375 \nQ 14.796875 18.265625 18.828125 12.890625 \nQ 22.859375 7.515625 30.078125 7.515625 \nQ 37.359375 7.515625 41.375 12.890625 \nQ 45.40625 18.265625 45.40625 27.984375 \nz\nM 54.390625 6.78125 \nQ 54.390625 -7.171875 48.1875 -13.984375 \nQ 42 -20.796875 29.203125 -20.796875 \nQ 24.46875 -20.796875 20.265625 -20.09375 \nQ 16.0625 -19.390625 12.109375 -17.921875 \nL 12.109375 -9.1875 \nQ 16.0625 -11.328125 19.921875 -12.34375 \nQ 23.78125 -13.375 27.78125 -13.375 \nQ 36.625 -13.375 41.015625 -8.765625 \nQ 45.40625 -4.15625 45.40625 5.171875 \nL 45.40625 9.625 \nQ 42.625 4.78125 38.28125 2.390625 \nQ 33.9375 0 27.875 0 \nQ 17.828125 0 11.671875 7.65625 \nQ 5.515625 15.328125 5.515625 27.984375 \nQ 5.515625 40.671875 11.671875 48.328125 \nQ 17.828125 56 27.875 56 \nQ 33.9375 56 38.28125 53.609375 \nQ 42.625 51.21875 45.40625 46.390625 \nL 45.40625 54.6875 \nL 54.390625 54.6875 \nz\n\" id=\"DejaVuSans-103\"/>\n       <path d=\"M 56.203125 29.59375 \nL 56.203125 25.203125 \nL 14.890625 25.203125 \nQ 15.484375 15.921875 20.484375 11.0625 \nQ 25.484375 6.203125 34.421875 6.203125 \nQ 39.59375 6.203125 44.453125 7.46875 \nQ 49.3125 8.734375 54.109375 11.28125 \nL 54.109375 2.78125 \nQ 49.265625 0.734375 44.1875 -0.34375 \nQ 39.109375 -1.421875 33.890625 -1.421875 \nQ 20.796875 -1.421875 13.15625 6.1875 \nQ 5.515625 13.8125 5.515625 26.8125 \nQ 5.515625 40.234375 12.765625 48.109375 \nQ 20.015625 56 32.328125 56 \nQ 43.359375 56 49.78125 48.890625 \nQ 56.203125 41.796875 56.203125 29.59375 \nz\nM 47.21875 32.234375 \nQ 47.125 39.59375 43.09375 43.984375 \nQ 39.0625 48.390625 32.421875 48.390625 \nQ 24.90625 48.390625 20.390625 44.140625 \nQ 15.875 39.890625 15.1875 32.171875 \nz\n\" id=\"DejaVuSans-101\"/>\n      </defs>\n      <use xlink:href=\"#DejaVuSans-116\"/>\n      <use x=\"39.208984\" xlink:href=\"#DejaVuSans-97\"/>\n      <use x=\"100.488281\" xlink:href=\"#DejaVuSans-114\"/>\n      <use x=\"139.851562\" xlink:href=\"#DejaVuSans-103\"/>\n      <use x=\"203.328125\" xlink:href=\"#DejaVuSans-101\"/>\n      <use x=\"264.851562\" xlink:href=\"#DejaVuSans-116\"/>\n      <use x=\"304.060547\" xlink:href=\"#DejaVuSans-115\"/>\n     </g>\n    </g>\n   </g>\n   <g id=\"line2d_11\">\n    <path clip-path=\"url(#pcef7a82015)\" d=\"M 205.314998 123.944988 \nL 161.939505 151.52168 \nL 247.538867 96.383284 \nL 193.595853 130.270046 \nL 254.444694 89.93985 \nL 188.972348 134.31821 \nL 213.855214 116.425425 \nL 229.963001 107.432076 \nL 89.680631 196.352071 \nL 227.226332 107.824641 \nL 159.217508 154.645605 \nL 181.307996 139.129638 \nL 280.471159 76.732507 \nL 222.329756 113.092449 \nL 175.796758 143.632691 \nL 126.849839 174.520138 \nL 226.539845 111.157025 \nL 309.644987 54.934975 \nL 206.018625 122.947102 \nL 98.333449 194.58623 \nL 199.783421 129.114412 \nL 197.935647 127.052036 \nL 223.640583 110.482099 \nL 183.904703 136.626347 \nL 240.747733 102.14373 \nL 181.174312 139.435038 \nL 306.887753 58.159764 \nL 268.225232 84.740984 \nL 104.52473 190.571693 \nL 274.91359 77.086424 \nL 202.048394 126.103359 \nL 182.157699 139.830121 \nL 237.168117 101.998624 \nL 226.854493 111.577327 \nL 286.290183 71.821095 \nL 246.474548 95.531689 \nL 227.267114 109.347523 \nL 262.472779 85.336545 \nL 286.214347 70.063806 \nL 288.958918 67.349314 \nL 192.811237 130.676895 \nL 136.732583 167.355276 \nL 259.61819 89.519588 \nL 335.390969 40.536705 \nL 271.577345 78.824084 \nL 143.780415 165.337718 \nL 265.249949 83.563812 \nL 275.026526 79.574004 \nL 254.118054 93.871934 \nL 154.758273 158.225916 \nL 238.919418 100.570073 \nL 269.808574 82.578452 \nL 211.421739 120.713694 \nL 240.511439 101.0169 \nL 251.614544 93.294222 \nL 279.741296 76.03157 \nL 221.751512 112.385971 \nL 198.752053 126.070087 \nL 368.003463 17.622135 \nL 354.855814 25.58569 \nL 365.035205 20.951411 \nL 135.621269 170.529621 \nL 209.001459 121.34489 \nL 317.820124 52.134366 \nL 295.733938 66.232993 \nL 210.088123 118.763167 \nL 274.383273 76.943532 \nL 233.54627 104.069428 \nL 179.237845 141.344942 \nL 262.759132 87.214854 \nL 298.400065 64.617243 \nL 324.391621 46.640723 \nL 245.977806 96.084331 \nL 213.413557 119.737537 \nL 173.758589 143.460602 \nL 172.810759 145.695064 \nL 223.317553 112.816718 \nL 268.062907 81.226012 \nL 157.547521 155.86942 \nL 349.536355 32.242515 \nL 302.304537 59.163336 \nL 261.450363 85.466739 \nL 282.080362 72.751867 \nL 284.251468 70.912569 \nL 217.781443 117.111967 \nL 255.219435 89.389552 \nL 253.354771 93.190418 \nL 98.475297 191.615685 \nL 115.562855 180.537165 \nL 164.45611 150.328872 \nL 162.452173 151.005295 \nL 299.891975 62.165653 \nL 311.045865 56.120282 \nL 175.058525 141.263658 \nL 120.579034 180.469195 \nL 194.87725 128.426372 \nL 145.281134 161.890676 \nL 157.93039 156.211033 \nL 161.67092 150.164124 \nL 223.177322 113.701138 \nL 225.026162 112.180809 \nL 111.662225 184.771389 \nL 346.035629 33.49124 \nL 195.129452 128.904969 \nL 229.614623 109.752312 \nL 285.592548 70.607924 \nL 159.076355 151.495713 \nL 334.034406 41.620976 \nL 113.873011 183.94892 \nL 167.889988 147.642025 \nL 211.381282 121.262035 \nL 177.095404 141.623373 \nL 143.693145 164.374531 \nL 170.228039 145.496776 \nL 275.948442 79.795007 \nL 282.497107 71.775614 \nL 192.72892 132.463099 \nL 306.054826 59.45102 \nL 107.574012 187.430431 \nL 259.69382 88.971793 \nL 221.532744 112.439407 \nL 348.879513 28.855414 \nL 158.191622 153.342212 \nL 225.278411 111.428002 \nL 206.702879 122.728728 \nL 281.368146 74.003228 \nL 249.844135 93.268808 \nL 311.865184 55.218635 \nL 141.980415 163.23391 \nL 252.055358 92.42597 \nL 154.968237 158.258705 \nL 246.63711 98.443621 \nL 236.892248 104.491949 \nL 169.445528 147.454401 \nL 354.611368 27.027715 \nL 320.838884 48.685679 \nL 340.965609 37.609263 \nL 212.755571 118.09883 \nL 209.953343 120.047215 \nL 253.390689 90.650551 \nL 129.272717 172.712112 \nL 217.264228 114.572771 \nL 287.511436 70.581037 \nL 64.200994 214.756364 \nL 121.050374 178.923686 \nL 281.853382 74.857268 \nL 345.214128 33.165101 \nL 215.918534 117.481817 \nL 131.728384 172.656092 \nL 258.234219 90.594196 \nL 215.660132 118.191502 \nL 264.603446 85.305173 \nL 282.503925 72.868491 \nL 174.220817 144.724409 \nL 154.59204 154.705551 \nL 254.805186 91.839793 \nL 305.808997 60.463052 \nL 301.558162 61.452125 \nL 150.701661 158.257428 \nL 275.16036 80.278088 \nL 293.95732 64.080955 \nL 340.833142 35.006809 \nL 270.141681 79.644592 \nL 310.929924 57.057248 \nL 246.434349 95.022651 \nL 150.278526 159.119589 \nL 194.474284 130.542309 \nL 296.318111 65.561949 \nL 169.528152 147.072336 \nL 238.104879 103.443592 \nL 192.719741 131.598898 \nL 327.556611 42.828862 \nL 269.049553 81.071793 \nL 262.488835 86.144966 \nL 161.170228 150.711576 \nL 233.547838 105.10962 \nL 190.539439 131.84663 \nL 352.436262 26.219161 \nL 198.028225 129.333245 \nL 285.693365 73.096763 \nL 214.034965 118.237664 \nL 330.845589 43.511672 \nL 208.95923 123.041432 \nL 259.628282 87.56666 \nL 186.743016 134.769487 \nL 226.841165 110.635585 \nL 119.20114 179.134002 \nL 95.930075 192.865695 \nL 289.903986 69.387814 \nL 207.570822 120.619527 \nL 121.026806 178.00259 \nL 226.687586 110.535418 \nL 112.933543 181.910269 \nL 192.369499 131.816348 \nL 219.695081 112.452024 \nL 243.945386 100.040524 \nL 205.990032 122.063332 \nL 185.939362 135.889842 \nL 346.973002 33.348527 \nL 203.091422 126.82435 \nL 195.637503 131.050071 \nL 98.666519 191.254045 \nL 88.69104 198.755669 \nL 219.765765 114.474817 \nL 295.443221 66.13937 \nL 302.799213 61.579943 \nL 289.54227 67.276282 \nL 325.912663 45.374359 \nL 191.66125 133.472978 \nL 249.484944 94.106698 \nL 200.694972 125.567838 \nL 283.49691 72.253321 \nL 296.590615 65.54805 \nL 233.132081 107.221386 \nL 169.368098 148.662182 \nL 252.306802 91.351911 \nL 327.537517 43.312884 \nL 279.466819 75.738114 \nL 251.656981 92.298208 \nL 233.338089 106.696212 \nL 200.765418 124.443963 \nL 259.90464 89.64294 \nL 71.875102 210.346407 \nL 217.360765 116.315664 \nL 343.251782 35.503747 \nL 195.92454 129.638955 \nL 166.380932 148.733633 \nL 183.099365 137.239424 \nL 145.274889 164.225017 \nL 278.666073 76.079343 \nL 213.793505 118.199985 \nL 224.49092 111.209373 \nL 327.356232 45.591011 \nL 178.166969 142.825357 \nL 163.131249 152.04273 \nL 313.51808 51.834304 \nL 319.805946 48.812739 \nL 279.230489 74.124788 \nL 201.627675 125.053041 \nL 282.101546 72.380345 \nL 292.26146 69.048068 \nL 332.146427 42.839711 \nL 128.628669 173.476797 \nL 308.635496 58.749561 \nL 239.857274 99.14842 \nL 149.05127 158.209778 \nL 102.884461 191.541731 \nL 214.928383 117.426165 \nL 232.354744 104.813597 \nL 259.370887 89.435059 \nL 354.417697 27.48474 \nL 235.89578 103.409656 \nL 169.825666 144.602723 \nL 336.993348 38.51586 \nL 217.787626 113.921458 \nL 268.564423 80.748707 \nL 105.444505 186.825191 \nL 220.583295 113.259889 \nL 218.167423 113.241086 \nL 176.278011 142.676261 \nL 173.754241 142.418406 \nL 308.458438 55.666753 \nL 223.142787 113.607775 \nL 208.512932 121.475414 \nL 284.817626 72.534461 \nL 241.728838 101.441954 \nL 141.974823 162.983489 \nL 159.966361 151.101333 \nL 217.847779 115.510703 \nL 315.617704 54.081383 \nL 261.415645 87.619884 \nL 196.552637 128.026369 \nL 296.584983 62.864139 \nL 358.343834 23.112863 \nL 210.249954 119.707261 \nL 104.746499 187.456492 \nL 193.335533 130.621579 \nL 277.507699 78.678027 \nL 235.881713 102.140887 \nL 320.1337 47.215977 \nL 126.065966 173.649554 \nL 358.846216 24.275805 \nL 326.680203 44.270516 \nL 361.722777 23.497565 \nL 213.429617 116.437317 \nL 315.412288 52.737155 \nL 307.843665 58.983716 \nL 162.878168 152.11935 \nL 283.483684 73.235678 \nL 164.071992 151.640329 \nL 183.320231 135.941772 \nL 180.575512 139.573811 \nL 197.110191 127.050143 \nL 287.771436 68.724153 \nL 221.840796 114.370859 \nL 202.658424 125.436177 \nL 246.88602 97.201269 \nL 236.544866 103.204202 \nL 300.643305 63.497393 \nL 103.362666 188.758367 \nL 206.217303 121.921817 \nL 102.053667 189.341353 \nL 224.455276 111.695739 \nL 276.108601 77.673469 \nL 233.690621 103.537798 \nL 164.647605 151.494603 \nL 199.893674 126.894335 \nL 229.082101 106.920656 \nL 189.565219 133.832385 \nL 108.535651 185.111521 \nL 258.911874 88.220595 \nL 354.649075 25.569441 \nL 278.473515 75.764427 \nL 259.428125 89.021396 \nL 214.389135 117.818759 \nL 169.757827 147.493941 \nL 344.069588 33.04464 \nL 154.704827 155.528011 \nL 191.66237 132.69126 \nL 255.480464 90.637102 \nL 248.483144 94.598219 \nL 97.697405 191.933165 \nL 118.350699 180.143829 \nL 124.313787 177.164669 \nL 117.101806 179.277182 \nL 290.609261 69.475349 \nL 331.940739 41.76691 \nL 131.884628 171.390589 \nL 141.093065 166.679184 \nL 278.857166 74.374267 \nL 136.195164 166.958506 \nL 273.45043 80.848243 \nL 320.170723 48.049845 \nL 309.725592 56.342124 \nL 324.897542 45.845466 \nL 155.267193 156.654468 \nL 286.862483 69.81314 \nL 219.935424 112.633152 \nL 183.480442 136.872134 \nL 291.778311 69.007425 \nL 160.733942 150.706146 \nL 254.650938 90.181152 \nL 293.956493 67.897241 \nL 294.563788 65.081815 \nL 184.619507 136.648412 \nL 193.5513 132.65957 \nL 125.852656 176.797396 \nL 158.647984 152.787796 \nL 334.714401 40.918148 \nL 252.479712 94.980558 \nL 301.378161 60.496625 \nL 313.835133 54.965667 \nL 315.771209 50.120855 \nL 240.918109 99.813639 \nL 269.059012 82.388204 \nL 219.406461 114.490466 \nL 267.536192 84.726673 \nL 127.356728 175.957726 \nL 303.394305 61.872941 \nL 315.339191 51.902289 \nL 202.795246 125.613688 \nL 303.874304 59.879708 \nL 280.207176 76.657259 \nL 136.312731 166.551892 \nL 238.592754 101.440529 \nL 286.126622 69.522311 \nL 155.893639 155.254087 \nL 209.728215 119.611967 \nL 169.72845 146.176631 \nL 355.029899 24.57176 \nL 184.304068 137.498256 \nL 233.630873 104.171816 \nL 196.262318 128.247349 \nL 279.068475 76.117035 \nL 228.490583 110.187707 \nL 296.251122 62.893693 \nL 229.271592 109.008431 \nL 252.313245 93.67407 \nL 348.317994 29.340805 \nL 178.008657 142.472933 \nL 298.790826 64.565514 \nL 145.175412 162.71223 \nL 185.568746 138.184474 \nL 291.268451 68.339442 \nL 139.618091 167.830896 \nL 216.873233 117.442881 \nL 324.116883 48.33655 \nL 242.448668 99.149413 \nL 281.559623 72.998404 \nL 246.835704 98.062836 \nL 258.755948 90.842475 \nL 152.283086 159.196513 \nL 224.256451 109.275292 \nL 315.221143 51.026812 \nL 286.767348 69.165401 \nL 205.92408 124.753261 \nL 274.292229 77.970233 \nL 285.229733 73.753714 \nL 117.44655 178.464269 \nL 264.7476 85.915286 \nL 227.844757 107.115778 \nL 134.984902 169.798402 \nL 247.980762 95.189062 \nL 172.847721 144.51714 \nL 172.929722 145.0658 \nL 252.378752 93.618636 \nL 136.878346 167.557862 \nL 301.777144 62.244557 \nL 141.250446 163.280121 \nL 328.15421 44.456447 \nL 99.519839 191.27749 \nL 244.139828 100.214294 \nL 163.110476 151.787549 \nL 336.707878 37.368423 \nL 271.079563 79.943497 \nL 234.153915 104.765573 \nL 113.615937 183.044436 \nL 257.644237 88.207806 \nL 179.38498 140.86887 \nL 203.311683 123.016506 \nL 230.397612 106.409362 \nL 168.42639 149.371931 \nL 137.668857 165.873742 \nL 213.122731 118.356896 \nL 276.35163 79.509693 \nL 259.643766 87.729827 \nL 113.105009 185.073817 \nL 258.558788 89.728925 \nL 89.876342 199.285465 \nL 269.100365 81.538128 \nL 157.920734 155.12381 \nL 163.253616 148.849923 \nL 197.35043 127.626908 \nL 261.179027 86.493153 \nL 252.93369 93.846454 \nL 245.286555 95.910474 \nL 258.906691 89.210366 \nL 107.220849 185.921033 \nL 168.190301 147.682793 \nL 268.230137 83.152635 \nL 241.802573 99.069057 \nL 206.926914 122.494823 \nL 258.900119 88.913173 \nL 106.220582 186.568785 \nL 279.756452 77.338172 \nL 161.772087 151.84548 \nL 247.00624 94.865678 \nL 316.577576 51.356584 \nL 233.664684 107.067528 \nL 219.567118 114.657995 \nL 116.974257 179.425244 \nL 305.244917 59.340404 \nL 261.357476 87.526827 \nL 208.921727 121.634024 \nL 274.587542 79.320662 \nL 286.067489 72.742077 \nL 72.4068 211.162981 \nL 156.033127 154.383232 \nL 165.253942 147.371046 \nL 96.766465 194.649335 \nL 175.330063 143.844916 \nL 286.766535 72.728377 \nL 251.699306 94.844662 \nL 245.930351 97.027444 \nL 182.697231 138.523107 \nL 155.265592 157.214927 \nL 260.62092 89.11429 \nL 314.335618 53.739643 \nL 217.045502 114.027044 \nL 278.163843 75.283308 \nL 85.018357 203.126755 \nL 203.877624 126.482467 \nL 274.834641 79.141903 \nL 206.324733 124.805082 \nL 219.803084 112.856813 \nL 213.87374 116.29899 \nL 225.222179 109.207323 \nL 204.581773 125.06996 \nL 144.879433 164.06834 \nL 312.806058 55.109983 \nL 198.764345 128.731725 \nL 268.628607 81.49993 \nL 164.85567 147.780771 \nL 218.22748 116.526161 \nL 167.991753 147.614908 \nL 204.983444 125.792054 \nL 163.092413 150.519333 \nL 312.520472 54.169413 \nL 255.983644 89.308245 \nL 106.479244 188.075188 \nL 177.947152 142.561269 \nL 133.934881 170.487836 \nL 267.104455 85.326145 \nL 358.317009 23.168985 \nL 85.050181 201.22969 \nL 271.307111 79.96441 \nL 178.937529 142.136186 \nL 146.436467 162.892585 \nL 238.451909 103.539361 \nL 268.487891 80.869084 \nL 136.581119 166.403094 \nL 208.172289 120.531661 \nL 182.993921 138.251816 \nL 185.834542 136.836643 \nL 308.043973 56.231442 \nL 162.712104 149.136831 \nL 129.935536 171.171478 \nL 267.814306 83.844983 \nL 156.465548 156.85531 \nL 177.594666 139.847539 \nL 285.645735 72.997878 \nL 169.168556 146.721745 \nL 254.605202 89.589748 \nL 254.678642 90.887402 \nL 272.520275 81.867797 \nL 271.634503 82.116882 \nL 109.713921 183.421403 \nL 300.573785 60.851263 \nL 179.346909 142.452496 \nL 328.212587 44.988132 \nL 267.674201 82.998159 \nL 226.391747 111.780356 \nL 261.460741 85.801912 \nL 171.329948 146.09548 \nL 205.289877 124.338726 \nL 314.303925 52.412073 \nL 282.990411 73.227554 \nL 224.170708 109.510675 \nL 131.893674 170.646797 \nL 81.053767 205.851542 \nL 163.527115 152.368158 \nL 368.564631 17.083636 \nL 219.289823 112.443619 \nL 262.602889 88.110448 \nL 288.747663 68.111274 \nL 280.909107 73.720112 \nL 174.919086 141.615203 \nL 132.832296 169.323887 \nL 96.065632 194.567803 \nL 176.844674 142.251461 \nL 224.137112 112.337449 \nL 226.435654 109.865368 \nL 285.644904 70.094114 \nL 112.535316 181.643513 \nL 197.014624 130.306439 \nL 277.68101 77.774801 \nL 361.713997 20.577925 \nL 210.559974 119.18706 \nL 273.593055 80.115573 \nL 173.145999 145.022091 \nL 116.029497 180.22186 \nL 354.563678 26.699237 \nL 290.05857 68.564218 \nL 335.675075 37.561007 \nL 215.430274 115.22417 \nL 146.548655 161.322811 \nL 282.820751 74.378333 \nL 171.427065 147.519881 \nL 253.516021 90.285869 \nL 313.906745 51.651094 \nL 297.427173 65.400545 \nL 283.255815 72.476823 \nL 276.565631 77.576881 \nL 76.179335 208.620431 \nL 145.057623 162.103436 \nL 254.630334 91.040005 \nL 334.300473 38.474832 \nL 216.214512 118.121094 \nL 144.410628 164.348786 \nL 172.255757 142.941351 \nL 192.380889 133.35769 \nL 273.697944 80.664374 \nL 239.224763 100.804616 \nL 232.826926 104.369465 \nL 155.597031 156.538491 \nL 195.777711 128.516889 \nL 268.438658 81.921038 \nL 133.134308 168.561095 \nL 191.554323 130.868027 \nL 247.980493 95.334571 \nL 240.90206 100.476739 \nL 229.715155 109.004412 \nL 116.258835 180.438645 \nL 167.633408 149.408057 \nL 147.89239 161.281675 \nL 165.023238 150.597523 \nL 199.320411 126.022568 \nL 330.352014 44.236141 \nL 349.266381 28.955357 \nL 322.006793 46.210423 \nL 288.107066 68.995905 \nL 155.692149 156.768962 \nL 213.015652 119.929577 \nL 219.674026 113.623206 \nL 120.585106 178.982523 \nL 171.519153 146.178261 \nL 178.71518 142.044871 \nL 259.194756 86.929622 \nL 180.964262 138.524547 \nL 269.160086 83.331737 \nL 160.537899 152.898021 \nL 279.045155 75.723993 \nL 287.741677 68.815671 \nL 227.584721 110.527458 \nL 124.814035 177.346412 \nL 252.146411 94.940167 \nL 175.78285 144.238917 \nL 166.662061 149.714612 \nL 105.043967 190.225478 \nL 274.771402 77.97293 \nL 156.269785 155.555936 \nL 228.678983 107.155755 \nL 177.244266 140.60186 \nL 312.651903 54.196573 \nL 183.035453 137.375495 \nL 189.87507 132.660667 \nL 256.723845 89.67048 \nL 258.986034 86.905923 \nL 105.988412 187.815043 \nL 160.256669 153.855994 \nL 255.620472 92.172976 \nL 177.23545 143.245343 \nL 287.375294 69.549804 \nL 176.94394 143.50345 \nL 220.307112 114.050793 \nL 320.992362 50.429312 \nL 189.663421 133.564936 \nL 205.1468 125.709876 \nL 146.320026 162.832668 \nL 177.898447 141.662505 \nL 234.596178 104.305077 \nL 122.588628 177.937767 \nL 235.954002 104.727431 \nL 178.213154 142.386768 \nL 108.579589 186.068719 \nL 253.240462 93.080085 \nL 220.632937 113.984611 \nL 237.83042 102.799723 \nL 208.184732 123.056627 \nL 195.09759 128.884017 \nL 146.05492 162.200876 \nL 272.365856 79.52242 \nL 162.656012 150.069442 \nL 175.097548 143.036956 \nL 224.347315 111.746194 \nL 149.106107 158.575439 \nL 249.689127 93.693669 \nL 342.768419 33.149833 \nL 340.884546 33.754491 \nL 248.520884 96.412895 \nL 251.063017 95.855856 \nL 267.457662 82.957741 \nL 182.074888 138.825484 \nL 159.366175 151.744407 \nL 230.968686 107.029633 \nL 232.560025 104.041605 \nL 235.922971 104.501591 \nL 192.420057 131.984412 \nL 280.565408 72.768452 \nL 264.974313 86.25026 \nL 211.834575 117.47804 \nL 215.883637 118.738146 \nL 208.709616 120.258274 \nL 112.560044 182.408965 \nL 244.832705 98.317911 \nL 241.122993 101.754369 \nL 185.625426 137.564467 \nL 301.979399 62.20043 \nL 264.016979 85.954804 \nL 264.779619 86.620512 \nL 198.866627 128.190352 \nL 261.680022 85.512593 \nL 183.907252 138.439954 \nL 258.200142 90.257161 \nL 140.366983 166.078078 \nL 285.362809 73.027814 \nL 271.116573 79.906383 \nL 115.222922 181.86965 \nL 258.669116 86.87013 \nL 290.218405 66.952165 \nL 229.105812 107.710902 \nL 219.122758 116.332767 \nL 104.680297 188.36184 \nL 211.545779 118.73675 \nL 280.041446 74.506294 \nL 193.837417 130.645175 \nL 321.954235 49.577863 \nL 262.023749 84.979417 \nL 223.493711 113.169745 \nL 298.204519 64.585296 \nL 341.80137 36.736502 \nL 82.661185 202.931703 \nL 220.07796 114.220879 \nL 99.50929 191.014714 \nL 144.699829 164.455186 \nL 187.137573 134.981414 \nL 188.683713 135.749582 \nL 270.193153 79.944974 \nL 296.416792 65.975708 \nL 210.639809 119.894531 \nL 207.98684 122.311076 \nL 240.289447 102.241506 \nL 242.603394 100.19482 \nL 245.609935 98.031561 \nL 146.632521 161.132519 \nL 105.572769 189.557866 \nL 117.754308 182.317923 \nL 277.625289 76.834484 \nL 334.848078 38.609198 \nL 235.209844 106.05259 \nL 187.606591 134.758466 \nL 318.939866 51.219864 \nL 305.237932 56.774977 \nL 215.35367 118.868472 \nL 273.65829 80.332242 \nL 254.767606 92.747446 \nL 255.338573 91.451098 \nL 222.574272 112.47988 \nL 305.894757 60.364785 \nL 363.245737 22.286915 \nL 173.274806 143.395475 \nL 298.771588 64.098272 \nL 289.717126 68.264557 \nL 204.294899 122.796467 \nL 212.801503 118.750398 \nL 295.766102 63.885516 \nL 261.687975 86.292761 \nL 223.354415 113.363647 \nL 186.223774 136.437168 \nL 233.405989 106.598158 \nL 244.913986 97.951161 \nL 194.681912 131.703418 \nL 228.652826 109.040938 \nL 178.281671 140.813881 \nL 101.914912 191.282117 \nL 188.161938 134.88225 \nL 183.185704 137.096457 \nL 145.962673 162.75693 \nL 124.937447 174.297231 \nL 192.96444 132.362468 \nL 135.986564 170.424121 \nL 200.786528 127.400999 \nL 270.585974 81.384821 \nL 213.729661 119.987166 \nL 164.156946 148.342255 \nL 99.553128 190.339632 \nL 218.120868 113.805072 \nL 155.978229 155.523062 \nL 250.448083 96.089537 \nL 205.123903 124.648147 \nL 175.299246 144.655163 \nL 219.198309 115.785323 \nL 153.803461 157.359646 \nL 197.43428 126.622004 \nL 345.00638 31.831621 \nL 208.96627 120.691615 \nL 180.350752 137.899937 \nL 118.931166 181.317194 \nL 157.471035 153.631682 \nL 277.977477 77.118596 \nL 160.432456 152.727792 \nL 244.505189 97.596094 \nL 217.599003 114.765547 \nL 335.928363 37.799603 \nL 188.069781 134.628469 \nL 255.318543 91.500955 \nL 313.715143 53.741679 \nL 163.558691 149.996234 \nL 325.706459 45.446506 \nL 119.961091 179.680423 \nL 249.527276 95.79834 \nL 277.650773 76.134804 \nL 323.67303 45.329774 \nL 343.992805 32.077507 \nL 346.381611 33.33364 \nL 211.991894 118.589376 \nL 228.492662 107.467707 \nL 246.703142 95.37959 \nL 298.26897 62.748357 \nL 260.576305 87.914042 \nL 221.169972 114.534894 \nL 200.329262 125.767348 \nL 229.881543 109.519582 \nL 308.592343 55.972199 \nL 226.809206 108.513157 \nL 124.045017 176.447268 \nL 150.615462 159.358946 \nL 288.229364 71.761664 \nL 265.143208 85.243478 \nL 251.979233 93.142583 \nL 229.449882 109.340618 \nL 186.478853 134.053903 \nL 257.593709 91.44093 \nL 345.208265 32.093886 \nL 130.230677 171.744547 \nL 288.275004 68.623076 \nL 269.421086 81.097366 \nL 171.639787 146.070736 \nL 187.992364 135.649798 \nL 242.481258 99.881849 \nL 233.514245 103.680128 \nL 124.169518 176.497562 \nL 298.60324 61.269551 \nL 184.307586 137.85206 \nL 202.87066 124.372998 \nL 197.419709 129.865153 \nL 209.077225 121.257947 \nL 276.004655 76.319135 \nL 199.256639 127.092281 \nL 267.199214 84.558011 \nL 308.928834 55.446379 \nL 342.844767 33.966354 \nL 263.860087 86.441239 \nL 195.278829 128.43863 \nL 208.633852 121.47442 \nL 174.59921 143.158861 \nL 301.981313 60.820584 \nL 220.846892 112.626303 \nL 136.846031 168.928277 \nL 247.8874 97.243007 \nL 214.573116 116.016164 \nL 198.14869 128.364635 \nL 88.797115 197.125876 \nL 232.557479 106.578228 \nL 111.263937 185.286758 \nL 75.328602 206.60688 \nL 257.258245 89.594511 \nL 115.620127 182.719635 \nL 237.879253 101.316313 \nL 134.048735 169.248458 \nL 148.958312 158.190153 \nL 215.515691 118.005714 \nL 248.952768 96.558945 \nL 186.403277 134.079966 \nL 199.729399 127.283767 \nL 151.069012 159.293984 \nL 138.683575 168.383537 \nL 334.563239 41.012221 \nL 242.295686 97.651529 \nL 228.488304 108.510028 \nL 306.464264 59.986042 \nL 92.326193 195.537119 \nL 360.564574 22.741828 \nL 267.672733 84.053999 \nL 201.977468 125.399865 \nL 222.458054 114.264901 \nL 254.090575 92.054091 \nL 354.68128 26.460935 \nL 308.374824 57.069943 \nL 261.005443 87.281339 \nL 298.591555 61.878963 \nL 228.989704 107.419789 \nL 110.656508 185.011544 \nL 207.405147 120.275214 \nL 135.093393 168.790611 \nL 291.173435 67.023796 \nL 146.324251 160.997429 \nL 344.089277 35.100436 \nL 294.206587 67.875796 \nL 155.012832 156.136423 \nL 230.719435 108.181142 \nL 242.194628 99.254211 \nL 113.115914 184.565374 \nL 171.467438 145.242544 \nL 174.439013 142.294047 \nL 238.520441 100.527153 \nL 263.14031 85.017796 \nL 240.074851 101.21609 \nL 279.91738 76.909138 \nL 184.545985 137.965819 \nL 150.727764 158.321186 \nL 270.764128 81.145724 \nL 254.503798 92.157876 \nL 196.028245 128.495056 \nL 138.153151 165.744853 \nL 286.363074 72.085021 \nL 289.951502 67.769811 \nL 300.799272 62.688469 \nL 339.330402 37.482116 \nL 252.716315 91.479969 \nL 182.441022 140.13341 \nL 173.540916 146.002204 \nL 232.61076 107.377874 \nL 189.417833 134.244246 \nL 152.017487 158.812219 \nL 181.373305 139.941415 \nL 131.507579 169.591996 \nL 108.246408 184.543747 \nL 177.173212 141.498146 \nL 242.405262 101.587074 \nL 164.813846 150.389622 \nL 213.437453 118.919823 \nL 110.234452 186.473539 \nL 267.155797 85.203139 \nL 243.762436 96.742021 \nL 216.371914 116.434883 \nL 199.032155 128.059995 \nL 314.592535 52.827517 \nL 282.471732 72.49432 \nL 196.835995 129.865055 \nL 137.659277 167.578629 \nL 254.442576 90.978934 \nL 312.533776 54.967379 \nL 325.048997 47.775392 \nL 328.851991 45.095607 \nL 216.631967 116.172466 \nL 248.340882 94.260778 \nL 161.221038 152.68899 \nL 240.671754 101.191538 \nL 127.350109 174.087885 \nL 280.967934 74.094306 \nL 345.036358 31.089722 \nL 286.343372 73.025149 \nL 303.424385 59.120884 \nL 151.117594 157.352194 \nL 326.699715 46.889982 \nL 225.785876 109.07539 \nL 228.61236 106.640876 \nL 213.838645 119.866636 \nL 240.985082 100.931638 \nL 180.171756 137.886347 \nL 250.479872 94.62884 \nL 175.60414 144.101264 \nL 195.72658 128.755227 \nL 305.145804 59.958927 \nL 191.509138 131.775523 \nL 108.79489 184.567914 \nL 230.446878 107.963454 \nL 191.091587 131.91878 \nL 345.251587 31.123636 \nL 264.445318 85.074715 \nL 260.601878 86.785584 \nL 290.026035 70.6934 \nL 156.009619 154.169804 \nL 113.863444 181.772377 \nL 180.138281 139.496249 \nL 171.265795 145.23053 \nL 354.844345 26.028696 \nL 137.05482 169.224505 \nL 132.62255 171.965083 \nL 187.202555 134.20437 \nL 86.212921 202.694222 \nL 321.64916 49.095036 \nL 218.421125 115.896323 \nL 127.326067 175.569943 \nL 187.913639 135.620545 \nL 188.911371 132.640571 \nL 278.935367 75.604829 \nL 198.804155 126.514556 \nL 197.185895 128.396155 \nL 164.142705 148.987752 \nL 216.105727 116.930097 \nL 120.29599 177.886239 \nL 89.541733 196.60202 \nL 358.294201 26.330374 \nL 228.592879 107.054989 \nL 118.597384 177.630064 \nL 189.852162 133.076737 \nL 244.457141 96.409981 \nL 316.810225 52.177528 \nL 217.138965 115.933602 \nL 359.373186 24.978851 \nL 154.526527 155.61517 \nL 255.10375 92.080365 \nL 277.953355 78.082647 \nL 229.29895 106.140885 \nL 252.581826 94.243157 \nL 172.594259 142.711241 \nL 262.561258 84.798536 \nL 259.30687 89.072126 \nL 287.352281 69.069758 \nL 179.300025 142.227106 \nL 269.900765 81.998911 \nL 206.815487 124.568587 \nL 196.369481 129.91475 \nL 268.231432 81.438119 \nL 335.443522 39.822309 \nL 199.219531 129.301257 \nL 348.395505 32.620205 \nL 240.369551 101.42132 \nL 116.532139 182.792339 \nL 243.957604 99.623114 \nL 279.223771 76.227053 \nL 325.402738 44.521925 \nL 175.476999 142.61406 \nL 246.220263 97.125532 \nL 159.510923 154.226295 \nL 136.184102 167.655607 \nL 322.039119 45.938702 \nL 322.039119 45.938702 \n\" style=\"fill:none;stroke:#1f77b4;stroke-linecap:square;stroke-width:1.5;\"/>\n   </g>\n   <g id=\"patch_3\">\n    <path d=\"M 48.982813 224.64 \nL 48.982813 7.2 \n\" style=\"fill:none;stroke:#000000;stroke-linecap:square;stroke-linejoin:miter;stroke-width:0.8;\"/>\n   </g>\n   <g id=\"patch_4\">\n    <path d=\"M 383.782813 224.64 \nL 383.782813 7.2 \n\" style=\"fill:none;stroke:#000000;stroke-linecap:square;stroke-linejoin:miter;stroke-width:0.8;\"/>\n   </g>\n   <g id=\"patch_5\">\n    <path d=\"M 48.982812 224.64 \nL 383.782812 224.64 \n\" style=\"fill:none;stroke:#000000;stroke-linecap:square;stroke-linejoin:miter;stroke-width:0.8;\"/>\n   </g>\n   <g id=\"patch_6\">\n    <path d=\"M 48.982812 7.2 \nL 383.782812 7.2 \n\" style=\"fill:none;stroke:#000000;stroke-linecap:square;stroke-linejoin:miter;stroke-width:0.8;\"/>\n   </g>\n  </g>\n </g>\n <defs>\n  <clipPath id=\"pcef7a82015\">\n   <rect height=\"217.44\" width=\"334.8\" x=\"48.982813\" y=\"7.2\"/>\n  </clipPath>\n </defs>\n</svg>\n",
      "image/png": "[encoded data removed]"
     },
     "metadata": {
      "needs_background": "light"
     }
    }
   ],
   "source": [
    "# We print the outputs and the targets in order to see if they have a linear relationship.\n",
    "# Again, that's not needed. Moreover, in later lectures, that would not even be possible.\n",
    "plt.plot(outputs,targets)\n",
    "plt.xlabel('outputs')\n",
    "plt.ylabel('targets')\n",
    "plt.show()"
   ]
  },
  {
   "cell_type": "code",
   "execution_count": null,
   "metadata": {},
   "outputs": [],
   "source": []
  }
 ],
 "metadata": {
  "anaconda-cloud": {},
  "kernelspec": {
   "display_name": "Python 3.7.7 64-bit ('udemy': conda)",
   "language": "python",
   "name": "python37764bitudemycondac776c9a5a44249a3a7351935adfef795"
  },
  "language_info": {
   "codemirror_mode": {
    "name": "ipython",
    "version": 3
   },
   "file_extension": ".py",
   "mimetype": "text/x-python",
   "name": "python",
   "nbconvert_exporter": "python",
   "pygments_lexer": "ipython3",
   "version": "3.7.7-final"
  }
 },
 "nbformat": 4,
 "nbformat_minor": 1
}