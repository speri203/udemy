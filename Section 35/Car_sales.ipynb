{
 "cells": [
  {
   "cell_type": "code",
   "execution_count": 3,
   "outputs": [],
   "source": [
    "import numpy as np\n",
    "import pandas as pd\n",
    "import seaborn as sb\n",
    "sb.set()"
   ],
   "metadata": {
    "collapsed": false,
    "pycharm": {
     "name": "#%%\n"
    }
   }
  },
  {
   "cell_type": "markdown",
   "source": [
    "Loading the raw data"
   ],
   "metadata": {
    "collapsed": false,
    "pycharm": {
     "name": "#%% md\n"
    }
   }
  },
  {
   "cell_type": "code",
   "source": [
    " raw_data = pd.read_csv('1.04. Real-life example.csv')\n",
    "raw_data.head()"
   ],
   "metadata": {
    "collapsed": false,
    "pycharm": {
     "name": "#%%\n"
    }
   },
   "execution_count": 6,
   "outputs": [
    {
     "data": {
      "text/plain": "           Brand    Price       Body  Mileage  EngineV Engine Type  \\\n0            BMW   4200.0      sedan      277      2.0      Petrol   \n1  Mercedes-Benz   7900.0        van      427      2.9      Diesel   \n2  Mercedes-Benz  13300.0      sedan      358      5.0         Gas   \n3           Audi  23000.0  crossover      240      4.2      Petrol   \n4         Toyota  18300.0  crossover      120      2.0      Petrol   \n\n  Registration  Year         Model  \n0          yes  1991           320  \n1          yes  1999  Sprinter 212  \n2          yes  2003         S 500  \n3          yes  2007            Q7  \n4          yes  2011         Rav 4  ",
      "text/html": "<div>\n<style scoped>\n    .dataframe tbody tr th:only-of-type {\n        vertical-align: middle;\n    }\n\n    .dataframe tbody tr th {\n        vertical-align: top;\n    }\n\n    .dataframe thead th {\n        text-align: right;\n    }\n</style>\n<table border=\"1\" class=\"dataframe\">\n  <thead>\n    <tr style=\"text-align: right;\">\n      <th></th>\n      <th>Brand</th>\n      <th>Price</th>\n      <th>Body</th>\n      <th>Mileage</th>\n      <th>EngineV</th>\n      <th>Engine Type</th>\n      <th>Registration</th>\n      <th>Year</th>\n      <th>Model</th>\n    </tr>\n  </thead>\n  <tbody>\n    <tr>\n      <th>0</th>\n      <td>BMW</td>\n      <td>4200.0</td>\n      <td>sedan</td>\n      <td>277</td>\n      <td>2.0</td>\n      <td>Petrol</td>\n      <td>yes</td>\n      <td>1991</td>\n      <td>320</td>\n    </tr>\n    <tr>\n      <th>1</th>\n      <td>Mercedes-Benz</td>\n      <td>7900.0</td>\n      <td>van</td>\n      <td>427</td>\n      <td>2.9</td>\n      <td>Diesel</td>\n      <td>yes</td>\n      <td>1999</td>\n      <td>Sprinter 212</td>\n    </tr>\n    <tr>\n      <th>2</th>\n      <td>Mercedes-Benz</td>\n      <td>13300.0</td>\n      <td>sedan</td>\n      <td>358</td>\n      <td>5.0</td>\n      <td>Gas</td>\n      <td>yes</td>\n      <td>2003</td>\n      <td>S 500</td>\n    </tr>\n    <tr>\n      <th>3</th>\n      <td>Audi</td>\n      <td>23000.0</td>\n      <td>crossover</td>\n      <td>240</td>\n      <td>4.2</td>\n      <td>Petrol</td>\n      <td>yes</td>\n      <td>2007</td>\n      <td>Q7</td>\n    </tr>\n    <tr>\n      <th>4</th>\n      <td>Toyota</td>\n      <td>18300.0</td>\n      <td>crossover</td>\n      <td>120</td>\n      <td>2.0</td>\n      <td>Petrol</td>\n      <td>yes</td>\n      <td>2011</td>\n      <td>Rav 4</td>\n    </tr>\n  </tbody>\n</table>\n</div>"
     },
     "execution_count": 6,
     "metadata": {},
     "output_type": "execute_result"
    }
   ]
  },
  {
   "cell_type": "markdown",
   "source": [
    "Preprocessing"
   ],
   "metadata": {
    "collapsed": false,
    "pycharm": {
     "name": "#%% md\n",
     "is_executing": true
    }
   },
   "outputs": [
    {
     "ename": "NameError",
     "evalue": "name 'Preprocessing' is not defined",
     "output_type": "error",
     "traceback": [
      "\u001B[1;31m---------------------------------------------------------------------------\u001B[0m",
      "\u001B[1;31mNameError\u001B[0m                                 Traceback (most recent call last)",
      "\u001B[1;32m<ipython-input-7-8dd04cb54fca>\u001B[0m in \u001B[0;36m<module>\u001B[1;34m\u001B[0m\n\u001B[1;32m----> 1\u001B[1;33m \u001B[0mPreprocessing\u001B[0m\u001B[1;33m\u001B[0m\u001B[1;33m\u001B[0m\u001B[0m\n\u001B[0m\u001B[0;32m      2\u001B[0m \u001B[1;33m\u001B[0m\u001B[0m\n",
      "\u001B[1;31mNameError\u001B[0m: name 'Preprocessing' is not defined"
     ]
    }
   ]
  },
  {
   "cell_type": "markdown",
   "source": [
    "Exploring the descriptive statistics of the variable"
   ],
   "metadata": {
    "collapsed": false,
    "pycharm": {
     "name": "#%% md\n"
    }
   }
  },
  {
   "cell_type": "code",
   "source": [
    " raw_data.describe(include='all')"
   ],
   "metadata": {
    "collapsed": false,
    "pycharm": {
     "name": "#%%\n"
    }
   },
   "execution_count": 9,
   "outputs": [
    {
     "data": {
      "text/plain": "             Brand          Price   Body      Mileage      EngineV  \\\ncount         4345    4173.000000   4345  4345.000000  4195.000000   \nunique           7            NaN      6          NaN          NaN   \ntop     Volkswagen            NaN  sedan          NaN          NaN   \nfreq           936            NaN   1649          NaN          NaN   \nmean           NaN   19418.746935    NaN   161.237284     2.790734   \nstd            NaN   25584.242620    NaN   105.705797     5.066437   \nmin            NaN     600.000000    NaN     0.000000     0.600000   \n25%            NaN    6999.000000    NaN    86.000000     1.800000   \n50%            NaN   11500.000000    NaN   155.000000     2.200000   \n75%            NaN   21700.000000    NaN   230.000000     3.000000   \nmax            NaN  300000.000000    NaN   980.000000    99.990000   \n\n       Engine Type Registration         Year    Model  \ncount         4345         4345  4345.000000     4345  \nunique           4            2          NaN      312  \ntop         Diesel          yes          NaN  E-Class  \nfreq          2019         3947          NaN      199  \nmean           NaN          NaN  2006.550058      NaN  \nstd            NaN          NaN     6.719097      NaN  \nmin            NaN          NaN  1969.000000      NaN  \n25%            NaN          NaN  2003.000000      NaN  \n50%            NaN          NaN  2008.000000      NaN  \n75%            NaN          NaN  2012.000000      NaN  \nmax            NaN          NaN  2016.000000      NaN  ",
      "text/html": "<div>\n<style scoped>\n    .dataframe tbody tr th:only-of-type {\n        vertical-align: middle;\n    }\n\n    .dataframe tbody tr th {\n        vertical-align: top;\n    }\n\n    .dataframe thead th {\n        text-align: right;\n    }\n</style>\n<table border=\"1\" class=\"dataframe\">\n  <thead>\n    <tr style=\"text-align: right;\">\n      <th></th>\n      <th>Brand</th>\n      <th>Price</th>\n      <th>Body</th>\n      <th>Mileage</th>\n      <th>EngineV</th>\n      <th>Engine Type</th>\n      <th>Registration</th>\n      <th>Year</th>\n      <th>Model</th>\n    </tr>\n  </thead>\n  <tbody>\n    <tr>\n      <th>count</th>\n      <td>4345</td>\n      <td>4173.000000</td>\n      <td>4345</td>\n      <td>4345.000000</td>\n      <td>4195.000000</td>\n      <td>4345</td>\n      <td>4345</td>\n      <td>4345.000000</td>\n      <td>4345</td>\n    </tr>\n    <tr>\n      <th>unique</th>\n      <td>7</td>\n      <td>NaN</td>\n      <td>6</td>\n      <td>NaN</td>\n      <td>NaN</td>\n      <td>4</td>\n      <td>2</td>\n      <td>NaN</td>\n      <td>312</td>\n    </tr>\n    <tr>\n      <th>top</th>\n      <td>Volkswagen</td>\n      <td>NaN</td>\n      <td>sedan</td>\n      <td>NaN</td>\n      <td>NaN</td>\n      <td>Diesel</td>\n      <td>yes</td>\n      <td>NaN</td>\n      <td>E-Class</td>\n    </tr>\n    <tr>\n      <th>freq</th>\n      <td>936</td>\n      <td>NaN</td>\n      <td>1649</td>\n      <td>NaN</td>\n      <td>NaN</td>\n      <td>2019</td>\n      <td>3947</td>\n      <td>NaN</td>\n      <td>199</td>\n    </tr>\n    <tr>\n      <th>mean</th>\n      <td>NaN</td>\n      <td>19418.746935</td>\n      <td>NaN</td>\n      <td>161.237284</td>\n      <td>2.790734</td>\n      <td>NaN</td>\n      <td>NaN</td>\n      <td>2006.550058</td>\n      <td>NaN</td>\n    </tr>\n    <tr>\n      <th>std</th>\n      <td>NaN</td>\n      <td>25584.242620</td>\n      <td>NaN</td>\n      <td>105.705797</td>\n      <td>5.066437</td>\n      <td>NaN</td>\n      <td>NaN</td>\n      <td>6.719097</td>\n      <td>NaN</td>\n    </tr>\n    <tr>\n      <th>min</th>\n      <td>NaN</td>\n      <td>600.000000</td>\n      <td>NaN</td>\n      <td>0.000000</td>\n      <td>0.600000</td>\n      <td>NaN</td>\n      <td>NaN</td>\n      <td>1969.000000</td>\n      <td>NaN</td>\n    </tr>\n    <tr>\n      <th>25%</th>\n      <td>NaN</td>\n      <td>6999.000000</td>\n      <td>NaN</td>\n      <td>86.000000</td>\n      <td>1.800000</td>\n      <td>NaN</td>\n      <td>NaN</td>\n      <td>2003.000000</td>\n      <td>NaN</td>\n    </tr>\n    <tr>\n      <th>50%</th>\n      <td>NaN</td>\n      <td>11500.000000</td>\n      <td>NaN</td>\n      <td>155.000000</td>\n      <td>2.200000</td>\n      <td>NaN</td>\n      <td>NaN</td>\n      <td>2008.000000</td>\n      <td>NaN</td>\n    </tr>\n    <tr>\n      <th>75%</th>\n      <td>NaN</td>\n      <td>21700.000000</td>\n      <td>NaN</td>\n      <td>230.000000</td>\n      <td>3.000000</td>\n      <td>NaN</td>\n      <td>NaN</td>\n      <td>2012.000000</td>\n      <td>NaN</td>\n    </tr>\n    <tr>\n      <th>max</th>\n      <td>NaN</td>\n      <td>300000.000000</td>\n      <td>NaN</td>\n      <td>980.000000</td>\n      <td>99.990000</td>\n      <td>NaN</td>\n      <td>NaN</td>\n      <td>2016.000000</td>\n      <td>NaN</td>\n    </tr>\n  </tbody>\n</table>\n</div>"
     },
     "execution_count": 9,
     "metadata": {},
     "output_type": "execute_result"
    }
   ]
  },
  {
   "cell_type": "markdown",
   "source": [
    "Determining the variables of interest"
   ],
   "metadata": {
    "collapsed": false,
    "pycharm": {
     "name": "#%% md\n"
    }
   }
  },
  {
   "cell_type": "code",
   "execution_count": 11,
   "outputs": [
    {
     "data": {
      "text/plain": "             Brand          Price   Body      Mileage      EngineV  \\\ncount         4345    4173.000000   4345  4345.000000  4195.000000   \nunique           7            NaN      6          NaN          NaN   \ntop     Volkswagen            NaN  sedan          NaN          NaN   \nfreq           936            NaN   1649          NaN          NaN   \nmean           NaN   19418.746935    NaN   161.237284     2.790734   \nstd            NaN   25584.242620    NaN   105.705797     5.066437   \nmin            NaN     600.000000    NaN     0.000000     0.600000   \n25%            NaN    6999.000000    NaN    86.000000     1.800000   \n50%            NaN   11500.000000    NaN   155.000000     2.200000   \n75%            NaN   21700.000000    NaN   230.000000     3.000000   \nmax            NaN  300000.000000    NaN   980.000000    99.990000   \n\n       Engine Type Registration         Year  \ncount         4345         4345  4345.000000  \nunique           4            2          NaN  \ntop         Diesel          yes          NaN  \nfreq          2019         3947          NaN  \nmean           NaN          NaN  2006.550058  \nstd            NaN          NaN     6.719097  \nmin            NaN          NaN  1969.000000  \n25%            NaN          NaN  2003.000000  \n50%            NaN          NaN  2008.000000  \n75%            NaN          NaN  2012.000000  \nmax            NaN          NaN  2016.000000  ",
      "text/html": "<div>\n<style scoped>\n    .dataframe tbody tr th:only-of-type {\n        vertical-align: middle;\n    }\n\n    .dataframe tbody tr th {\n        vertical-align: top;\n    }\n\n    .dataframe thead th {\n        text-align: right;\n    }\n</style>\n<table border=\"1\" class=\"dataframe\">\n  <thead>\n    <tr style=\"text-align: right;\">\n      <th></th>\n      <th>Brand</th>\n      <th>Price</th>\n      <th>Body</th>\n      <th>Mileage</th>\n      <th>EngineV</th>\n      <th>Engine Type</th>\n      <th>Registration</th>\n      <th>Year</th>\n    </tr>\n  </thead>\n  <tbody>\n    <tr>\n      <th>count</th>\n      <td>4345</td>\n      <td>4173.000000</td>\n      <td>4345</td>\n      <td>4345.000000</td>\n      <td>4195.000000</td>\n      <td>4345</td>\n      <td>4345</td>\n      <td>4345.000000</td>\n    </tr>\n    <tr>\n      <th>unique</th>\n      <td>7</td>\n      <td>NaN</td>\n      <td>6</td>\n      <td>NaN</td>\n      <td>NaN</td>\n      <td>4</td>\n      <td>2</td>\n      <td>NaN</td>\n    </tr>\n    <tr>\n      <th>top</th>\n      <td>Volkswagen</td>\n      <td>NaN</td>\n      <td>sedan</td>\n      <td>NaN</td>\n      <td>NaN</td>\n      <td>Diesel</td>\n      <td>yes</td>\n      <td>NaN</td>\n    </tr>\n    <tr>\n      <th>freq</th>\n      <td>936</td>\n      <td>NaN</td>\n      <td>1649</td>\n      <td>NaN</td>\n      <td>NaN</td>\n      <td>2019</td>\n      <td>3947</td>\n      <td>NaN</td>\n    </tr>\n    <tr>\n      <th>mean</th>\n      <td>NaN</td>\n      <td>19418.746935</td>\n      <td>NaN</td>\n      <td>161.237284</td>\n      <td>2.790734</td>\n      <td>NaN</td>\n      <td>NaN</td>\n      <td>2006.550058</td>\n    </tr>\n    <tr>\n      <th>std</th>\n      <td>NaN</td>\n      <td>25584.242620</td>\n      <td>NaN</td>\n      <td>105.705797</td>\n      <td>5.066437</td>\n      <td>NaN</td>\n      <td>NaN</td>\n      <td>6.719097</td>\n    </tr>\n    <tr>\n      <th>min</th>\n      <td>NaN</td>\n      <td>600.000000</td>\n      <td>NaN</td>\n      <td>0.000000</td>\n      <td>0.600000</td>\n      <td>NaN</td>\n      <td>NaN</td>\n      <td>1969.000000</td>\n    </tr>\n    <tr>\n      <th>25%</th>\n      <td>NaN</td>\n      <td>6999.000000</td>\n      <td>NaN</td>\n      <td>86.000000</td>\n      <td>1.800000</td>\n      <td>NaN</td>\n      <td>NaN</td>\n      <td>2003.000000</td>\n    </tr>\n    <tr>\n      <th>50%</th>\n      <td>NaN</td>\n      <td>11500.000000</td>\n      <td>NaN</td>\n      <td>155.000000</td>\n      <td>2.200000</td>\n      <td>NaN</td>\n      <td>NaN</td>\n      <td>2008.000000</td>\n    </tr>\n    <tr>\n      <th>75%</th>\n      <td>NaN</td>\n      <td>21700.000000</td>\n      <td>NaN</td>\n      <td>230.000000</td>\n      <td>3.000000</td>\n      <td>NaN</td>\n      <td>NaN</td>\n      <td>2012.000000</td>\n    </tr>\n    <tr>\n      <th>max</th>\n      <td>NaN</td>\n      <td>300000.000000</td>\n      <td>NaN</td>\n      <td>980.000000</td>\n      <td>99.990000</td>\n      <td>NaN</td>\n      <td>NaN</td>\n      <td>2016.000000</td>\n    </tr>\n  </tbody>\n</table>\n</div>"
     },
     "execution_count": 11,
     "metadata": {},
     "output_type": "execute_result"
    }
   ],
   "source": [
    "data = raw_data.drop(['Model'], axis=1)\n",
    "data.describe(include='all')"
   ],
   "metadata": {
    "collapsed": false,
    "pycharm": {
     "name": "#%%\n"
    }
   }
  },
  {
   "cell_type": "markdown",
   "source": [
    "Dealing with missing values"
   ],
   "metadata": {
    "collapsed": false,
    "pycharm": {
     "name": "#%% md\n"
    }
   }
  },
  {
   "cell_type": "code",
   "source": [
    "data.isnull().sum()"
   ],
   "metadata": {
    "collapsed": false,
    "pycharm": {
     "name": "#%%\n"
    }
   },
   "execution_count": 14,
   "outputs": [
    {
     "data": {
      "text/plain": "Brand             0\nPrice           172\nBody              0\nMileage           0\nEngineV         150\nEngine Type       0\nRegistration      0\nYear              0\ndtype: int64"
     },
     "execution_count": 14,
     "metadata": {},
     "output_type": "execute_result"
    }
   ]
  },
  {
   "cell_type": "code",
   "execution_count": 15,
   "outputs": [],
   "source": [
    "## Removing the missing values.\n",
    "data_no_mv = data.dropna(axis=0)"
   ],
   "metadata": {
    "collapsed": false,
    "pycharm": {
     "name": "#%%\n"
    }
   }
  },
  {
   "cell_type": "code",
   "execution_count": 17,
   "outputs": [
    {
     "data": {
      "text/plain": "             Brand          Price   Body      Mileage      EngineV  \\\ncount         4025    4025.000000   4025  4025.000000  4025.000000   \nunique           7            NaN      6          NaN          NaN   \ntop     Volkswagen            NaN  sedan          NaN          NaN   \nfreq           880            NaN   1534          NaN          NaN   \nmean           NaN   19552.308065    NaN   163.572174     2.764586   \nstd            NaN   25815.734988    NaN   103.394703     4.935941   \nmin            NaN     600.000000    NaN     0.000000     0.600000   \n25%            NaN    6999.000000    NaN    90.000000     1.800000   \n50%            NaN   11500.000000    NaN   158.000000     2.200000   \n75%            NaN   21900.000000    NaN   230.000000     3.000000   \nmax            NaN  300000.000000    NaN   980.000000    99.990000   \n\n       Engine Type Registration         Year  \ncount         4025         4025  4025.000000  \nunique           4            2          NaN  \ntop         Diesel          yes          NaN  \nfreq          1861         3654          NaN  \nmean           NaN          NaN  2006.379627  \nstd            NaN          NaN     6.695595  \nmin            NaN          NaN  1969.000000  \n25%            NaN          NaN  2003.000000  \n50%            NaN          NaN  2007.000000  \n75%            NaN          NaN  2012.000000  \nmax            NaN          NaN  2016.000000  ",
      "text/html": "<div>\n<style scoped>\n    .dataframe tbody tr th:only-of-type {\n        vertical-align: middle;\n    }\n\n    .dataframe tbody tr th {\n        vertical-align: top;\n    }\n\n    .dataframe thead th {\n        text-align: right;\n    }\n</style>\n<table border=\"1\" class=\"dataframe\">\n  <thead>\n    <tr style=\"text-align: right;\">\n      <th></th>\n      <th>Brand</th>\n      <th>Price</th>\n      <th>Body</th>\n      <th>Mileage</th>\n      <th>EngineV</th>\n      <th>Engine Type</th>\n      <th>Registration</th>\n      <th>Year</th>\n    </tr>\n  </thead>\n  <tbody>\n    <tr>\n      <th>count</th>\n      <td>4025</td>\n      <td>4025.000000</td>\n      <td>4025</td>\n      <td>4025.000000</td>\n      <td>4025.000000</td>\n      <td>4025</td>\n      <td>4025</td>\n      <td>4025.000000</td>\n    </tr>\n    <tr>\n      <th>unique</th>\n      <td>7</td>\n      <td>NaN</td>\n      <td>6</td>\n      <td>NaN</td>\n      <td>NaN</td>\n      <td>4</td>\n      <td>2</td>\n      <td>NaN</td>\n    </tr>\n    <tr>\n      <th>top</th>\n      <td>Volkswagen</td>\n      <td>NaN</td>\n      <td>sedan</td>\n      <td>NaN</td>\n      <td>NaN</td>\n      <td>Diesel</td>\n      <td>yes</td>\n      <td>NaN</td>\n    </tr>\n    <tr>\n      <th>freq</th>\n      <td>880</td>\n      <td>NaN</td>\n      <td>1534</td>\n      <td>NaN</td>\n      <td>NaN</td>\n      <td>1861</td>\n      <td>3654</td>\n      <td>NaN</td>\n    </tr>\n    <tr>\n      <th>mean</th>\n      <td>NaN</td>\n      <td>19552.308065</td>\n      <td>NaN</td>\n      <td>163.572174</td>\n      <td>2.764586</td>\n      <td>NaN</td>\n      <td>NaN</td>\n      <td>2006.379627</td>\n    </tr>\n    <tr>\n      <th>std</th>\n      <td>NaN</td>\n      <td>25815.734988</td>\n      <td>NaN</td>\n      <td>103.394703</td>\n      <td>4.935941</td>\n      <td>NaN</td>\n      <td>NaN</td>\n      <td>6.695595</td>\n    </tr>\n    <tr>\n      <th>min</th>\n      <td>NaN</td>\n      <td>600.000000</td>\n      <td>NaN</td>\n      <td>0.000000</td>\n      <td>0.600000</td>\n      <td>NaN</td>\n      <td>NaN</td>\n      <td>1969.000000</td>\n    </tr>\n    <tr>\n      <th>25%</th>\n      <td>NaN</td>\n      <td>6999.000000</td>\n      <td>NaN</td>\n      <td>90.000000</td>\n      <td>1.800000</td>\n      <td>NaN</td>\n      <td>NaN</td>\n      <td>2003.000000</td>\n    </tr>\n    <tr>\n      <th>50%</th>\n      <td>NaN</td>\n      <td>11500.000000</td>\n      <td>NaN</td>\n      <td>158.000000</td>\n      <td>2.200000</td>\n      <td>NaN</td>\n      <td>NaN</td>\n      <td>2007.000000</td>\n    </tr>\n    <tr>\n      <th>75%</th>\n      <td>NaN</td>\n      <td>21900.000000</td>\n      <td>NaN</td>\n      <td>230.000000</td>\n      <td>3.000000</td>\n      <td>NaN</td>\n      <td>NaN</td>\n      <td>2012.000000</td>\n    </tr>\n    <tr>\n      <th>max</th>\n      <td>NaN</td>\n      <td>300000.000000</td>\n      <td>NaN</td>\n      <td>980.000000</td>\n      <td>99.990000</td>\n      <td>NaN</td>\n      <td>NaN</td>\n      <td>2016.000000</td>\n    </tr>\n  </tbody>\n</table>\n</div>"
     },
     "execution_count": 17,
     "metadata": {},
     "output_type": "execute_result"
    }
   ],
   "source": [
    "data_no_mv.describe(include='all')"
   ],
   "metadata": {
    "collapsed": false,
    "pycharm": {
     "name": "#%%\n"
    }
   }
  },
  {
   "cell_type": "code",
   "execution_count": 19,
   "outputs": [
    {
     "data": {
      "text/plain": "<AxesSubplot:xlabel='Price'>"
     },
     "execution_count": 19,
     "metadata": {},
     "output_type": "execute_result"
    },
    {
     "data": {
      "text/plain": "<Figure size 432x288 with 1 Axes>",
      "image/png": "[encoded data removed]"
     },
     "metadata": {},
     "output_type": "display_data"
    }
   ],
   "source": [
    "sb.distplot(data_no_mv['Price'])"
   ],
   "metadata": {
    "collapsed": false,
    "pycharm": {
     "name": "#%%\n"
    }
   }
  },
  {
   "cell_type": "code",
   "execution_count": 23,
   "outputs": [
    {
     "data": {
      "text/plain": "             Brand          Price   Body      Mileage      EngineV  \\\ncount         3984    3984.000000   3984  3984.000000  3984.000000   \nunique           7            NaN      6          NaN          NaN   \ntop     Volkswagen            NaN  sedan          NaN          NaN   \nfreq           880            NaN   1528          NaN          NaN   \nmean           NaN   17837.117460    NaN   165.116466     2.743770   \nstd            NaN   18976.268315    NaN   102.766126     4.956057   \nmin            NaN     600.000000    NaN     0.000000     0.600000   \n25%            NaN    6980.000000    NaN    93.000000     1.800000   \n50%            NaN   11400.000000    NaN   160.000000     2.200000   \n75%            NaN   21000.000000    NaN   230.000000     3.000000   \nmax            NaN  129222.000000    NaN   980.000000    99.990000   \n\n       Engine Type Registration         Year  \ncount         3984         3984  3984.000000  \nunique           4            2          NaN  \ntop         Diesel          yes          NaN  \nfreq          1853         3613          NaN  \nmean           NaN          NaN  2006.292922  \nstd            NaN          NaN     6.672745  \nmin            NaN          NaN  1969.000000  \n25%            NaN          NaN  2002.750000  \n50%            NaN          NaN  2007.000000  \n75%            NaN          NaN  2011.000000  \nmax            NaN          NaN  2016.000000  ",
      "text/html": "<div>\n<style scoped>\n    .dataframe tbody tr th:only-of-type {\n        vertical-align: middle;\n    }\n\n    .dataframe tbody tr th {\n        vertical-align: top;\n    }\n\n    .dataframe thead th {\n        text-align: right;\n    }\n</style>\n<table border=\"1\" class=\"dataframe\">\n  <thead>\n    <tr style=\"text-align: right;\">\n      <th></th>\n      <th>Brand</th>\n      <th>Price</th>\n      <th>Body</th>\n      <th>Mileage</th>\n      <th>EngineV</th>\n      <th>Engine Type</th>\n      <th>Registration</th>\n      <th>Year</th>\n    </tr>\n  </thead>\n  <tbody>\n    <tr>\n      <th>count</th>\n      <td>3984</td>\n      <td>3984.000000</td>\n      <td>3984</td>\n      <td>3984.000000</td>\n      <td>3984.000000</td>\n      <td>3984</td>\n      <td>3984</td>\n      <td>3984.000000</td>\n    </tr>\n    <tr>\n      <th>unique</th>\n      <td>7</td>\n      <td>NaN</td>\n      <td>6</td>\n      <td>NaN</td>\n      <td>NaN</td>\n      <td>4</td>\n      <td>2</td>\n      <td>NaN</td>\n    </tr>\n    <tr>\n      <th>top</th>\n      <td>Volkswagen</td>\n      <td>NaN</td>\n      <td>sedan</td>\n      <td>NaN</td>\n      <td>NaN</td>\n      <td>Diesel</td>\n      <td>yes</td>\n      <td>NaN</td>\n    </tr>\n    <tr>\n      <th>freq</th>\n      <td>880</td>\n      <td>NaN</td>\n      <td>1528</td>\n      <td>NaN</td>\n      <td>NaN</td>\n      <td>1853</td>\n      <td>3613</td>\n      <td>NaN</td>\n    </tr>\n    <tr>\n      <th>mean</th>\n      <td>NaN</td>\n      <td>17837.117460</td>\n      <td>NaN</td>\n      <td>165.116466</td>\n      <td>2.743770</td>\n      <td>NaN</td>\n      <td>NaN</td>\n      <td>2006.292922</td>\n    </tr>\n    <tr>\n      <th>std</th>\n      <td>NaN</td>\n      <td>18976.268315</td>\n      <td>NaN</td>\n      <td>102.766126</td>\n      <td>4.956057</td>\n      <td>NaN</td>\n      <td>NaN</td>\n      <td>6.672745</td>\n    </tr>\n    <tr>\n      <th>min</th>\n      <td>NaN</td>\n      <td>600.000000</td>\n      <td>NaN</td>\n      <td>0.000000</td>\n      <td>0.600000</td>\n      <td>NaN</td>\n      <td>NaN</td>\n      <td>1969.000000</td>\n    </tr>\n    <tr>\n      <th>25%</th>\n      <td>NaN</td>\n      <td>6980.000000</td>\n      <td>NaN</td>\n      <td>93.000000</td>\n      <td>1.800000</td>\n      <td>NaN</td>\n      <td>NaN</td>\n      <td>2002.750000</td>\n    </tr>\n    <tr>\n      <th>50%</th>\n      <td>NaN</td>\n      <td>11400.000000</td>\n      <td>NaN</td>\n      <td>160.000000</td>\n      <td>2.200000</td>\n      <td>NaN</td>\n      <td>NaN</td>\n      <td>2007.000000</td>\n    </tr>\n    <tr>\n      <th>75%</th>\n      <td>NaN</td>\n      <td>21000.000000</td>\n      <td>NaN</td>\n      <td>230.000000</td>\n      <td>3.000000</td>\n      <td>NaN</td>\n      <td>NaN</td>\n      <td>2011.000000</td>\n    </tr>\n    <tr>\n      <th>max</th>\n      <td>NaN</td>\n      <td>129222.000000</td>\n      <td>NaN</td>\n      <td>980.000000</td>\n      <td>99.990000</td>\n      <td>NaN</td>\n      <td>NaN</td>\n      <td>2016.000000</td>\n    </tr>\n  </tbody>\n</table>\n</div>"
     },
     "execution_count": 23,
     "metadata": {},
     "output_type": "execute_result"
    }
   ],
   "source": [
    "q = data_no_mv['Price'].quantile(.99)\n",
    "data_1 = data_no_mv[data_no_mv['Price'] < q]\n",
    "data_1.describe(include='all')"
   ],
   "metadata": {
    "collapsed": false,
    "pycharm": {
     "name": "#%%\n"
    }
   }
  },
  {
   "cell_type": "code",
   "execution_count": 24,
   "outputs": [
    {
     "data": {
      "text/plain": "<AxesSubplot:xlabel='Price'>"
     },
     "execution_count": 24,
     "metadata": {},
     "output_type": "execute_result"
    },
    {
     "data": {
      "text/plain": "<Figure size 432x288 with 1 Axes>",
      "image/png": "[encoded data removed]"
     },
     "metadata": {},
     "output_type": "display_data"
    }
   ],
   "source": [
    "sb.distplot(data_1['Price'])"
   ],
   "metadata": {
    "collapsed": false,
    "pycharm": {
     "name": "#%%\n"
    }
   }
  }
 ],
 "metadata": {
  "kernelspec": {
   "name": "python3",
   "language": "python",
   "display_name": "Python 3"
  },
  "language_info": {
   "codemirror_mode": {
    "name": "ipython",
    "version": 2
   },
   "file_extension": ".py",
   "mimetype": "text/x-python",
   "name": "python",
   "nbconvert_exporter": "python",
   "pygments_lexer": "ipython2",
   "version": "2.7.6"
  }
 },
 "nbformat": 4,
 "nbformat_minor": 0
}